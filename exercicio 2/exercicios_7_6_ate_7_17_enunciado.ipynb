{
 "cells": [
  {
   "cell_type": "markdown",
   "id": "a7c32320",
   "metadata": {},
   "source": []
  },
  {
   "cell_type": "markdown",
   "id": "07a5855e",
   "metadata": {},
   "source": [
    "⭐ 7.6 - Preenchimento de lacunas\n",
    "\n",
    "Preencha as lacunas em cada uma das seguintes afirmações:\n",
    "\n",
    "a) O array unidimensional p contém quatro elementos. Os nomes desses elementos são ___, ___, ___ e ___.\n",
    "b) Nomear um array, declarar seu tipo e especificar o número de dimensões no array é chamado de ___.\n",
    "c) Em um array bidimensional, o primeiro índice identifica o ___ de um elemento e o segundo índice identifica o ___ de um elemento.\n",
    "d) Um array com n linhas e m colunas tem ___ linhas, ___ colunas e ___ elementos.\n",
    "e) O nome do elemento na linha 3 e na coluna 5 do array d é ___."
   ]
  },
  {
   "cell_type": "markdown",
   "id": "ed4d213c",
   "metadata": {},
   "source": [
    "⭐ 7.7 - Verdadeiro ou falso\n",
    "\n",
    "Determine se cada um dos seguintes é verdadeiro ou falso. Se falso, explique por quê:\n",
    "\n",
    "a) Para referir-se a uma localização particular ou elemento dentro de um array, especificamos o nome do array e o valor do elemento.\n",
    "b) Uma declaração de array reserva espaço para o array.\n",
    "c) Para indicar que 100 localizações devem ser reservadas para o array de inteiros p, o programador escreve a declaração p[100];\n",
    "d) Um aplicativo que inicializa os elementos de um array de 15 elementos como zero deve conter pelo menos uma instrução for.\n",
    "e) Um aplicativo que soma os elementos de um array bidimensional deve conter instruções for aninhadas."
   ]
  },
  {
   "cell_type": "markdown",
   "id": "820cd728",
   "metadata": {},
   "source": [
    "⭐ 7.8 - Instruções Java\n",
    "\n",
    "Escreva instruções Java para realizar cada uma das seguintes tarefas:\n",
    "\n",
    "a) Exiba o valor do elemento 6 do array t.\n",
    "b) Inicialize cada um dos 10 elementos de t, array de inteiros unidimensional g como 8.\n",
    "c) Copie os 100 elementos do array fonte para o array de destino, que contém 34 elementos.\n",
    "d) Determine e exiba os maiores e menores valores contidos no array de ponto flutuante w de 99 elementos"
   ]
  },
  {
   "cell_type": "markdown",
   "id": "cd9446be",
   "metadata": {},
   "source": [
    "⭐ 7.9 - Array bidimensional t\n",
    "\n",
    "Considere um array de inteiros dois por três t:\n",
    "\n",
    "a) Escreva uma instrução que declara e cria t.\n",
    "b) Quantas linhas tem t?\n",
    "c) Quantas colunas tem t?\n",
    "d) Quantos elementos tem t?\n",
    "e) Escreva expressões de acesso para todos os elementos na linha 1 de t.\n",
    "f) Escreva expressões de acesso para todos os elementos na coluna 2 de t.\n",
    "g) Escreva uma única instrução que configura o elemento de t na linha 0 e na coluna 1 como zero.\n",
    "h) Escreva instruções individuais para inicializar cada elemento de t para zero.\n",
    "i) Escreva uma instrução for aninhada que inicializa cada elemento de t como zero.\n",
    "j) Escreva uma instrução for aninhada que insere os valores para os elementos de t.\n",
    "k) Escreva uma série de instruções que determina e exibe o valor menor em t.\n",
    "l) Escreva uma instrução print que exibe os elementos da primeira linha de t.\n",
    "m) Escreva uma série de instruções que soma os elementos da terceira coluna de t.\n",
    "n) Liste os índices de linha à esquerda de cada linha e os índices de coluna como títulos na parte superior. Exiba o conteúdo de t no formato tabular."
   ]
  },
  {
   "cell_type": "markdown",
   "id": "6d8b0652",
   "metadata": {},
   "source": [
    "⭐ 7.10 - Comissões de vendas\n",
    "\n",
    "Utilize um array unidimensional para resolver o seguinte problema:Uma empresa paga seu pessoal de vendas por comissão. O pessoal de vendas recebe R$ 200 por semana mais 9% de suas vendas brutas durante essa semana.Por exemplo, um vendedor que vende R$ 5.000 brutos em uma semana recebe R$ 200 mais 9% de R$ 5.000, um total de R$ 650.\n",
    "\n",
    "Escreva um aplicativo (utilizando um array de contadores) que determine quantos vendedores receberam salários em cada um dos seguintes intervalos:\n",
    "\n",
    "a) R$ 200–299\n",
    "\n",
    "b) R$ 300–399\n",
    "\n",
    "c) R$ 400–499\n",
    "\n",
    "d) R$ 500–599\n",
    "\n",
    "e) R$ 600–699\n",
    "\n",
    "f) R$ 700–799\n",
    "\n",
    "g) R$ 800–899\n",
    "\n",
    "h) R$ 900–999\n",
    "\n",
    "i) R$ 1.000 e acima\n",
    "\n",
    "Resuma os resultados em formato tabular."
   ]
  },
  {
   "cell_type": "markdown",
   "id": "e3ee1fa9",
   "metadata": {},
   "source": [
    "⭐ 7.11 - Operações em arrays unidimensionais\n",
    "\n",
    "a) Configure os 10 elementos do array de inteiros counts como zeros.\n",
    "b) Adicione um a cada um dos 15 elementos do array de inteiros bonus.\n",
    "c) Exiba os cinco valores do array de inteiros bestScores em formato de coluna."
   ]
  },
  {
   "cell_type": "markdown",
   "id": "eb8dbc51",
   "metadata": {},
   "source": [
    "⭐ 7.12 - Eliminação de duplicatas\n",
    "\n",
    "Utilize um array unidimensional para resolver o seguinte problema:Escreva um aplicativo que insere cinco números, cada um entre 10 e 100, inclusive. Enquanto cada número é lido, exiba-o somente se ele não tiver uma duplicata de um número já lido. Cuide de tratar o “pior caso”, em que todos os cinco números são diferentes. Utilize o menor array possível para resolver esse problema. Exiba o conjunto completo de valores únicos inseridos depois que o usuário inserir cada valor novo."
   ]
  },
  {
   "cell_type": "markdown",
   "id": "3ea354cb",
   "metadata": {},
   "source": [
    "⭐ 7.13 - Inicialização em array bidimensional\n",
    "\n",
    "Rotule os elementos do array bidimensional três por cinco sales para indicar a ordem em que eles são configurados com zero pelo seguinte segmento de programa:\n",
    "for (int row = 0; row < sales.length; row++) {\n",
    "    for (int col = 0; col < sales[row].length; col++) {\n",
    "        sales[row][col] = 0;\n",
    "    }\n",
    "}"
   ]
  },
  {
   "cell_type": "markdown",
   "id": "c1782a3e",
   "metadata": {},
   "source": [
    "⭐ 7.14 - Lista de argumentos de comprimento variável\n",
    "\n",
    "Escreva um aplicativo que calcula o produto de uma série de inteiros que são passados para o método product utilizando uma lista de argumentos de comprimento variável. Teste seu método com várias chamadas, cada uma com um número diferente de argumentos."
   ]
  },
  {
   "cell_type": "markdown",
   "id": "7997405a",
   "metadata": {},
   "source": [
    "⭐ 7.15 - Argumentos de linha de comando\n",
    "\n",
    "Reescreva a Figura 7.2 para que o tamanho do array seja especificado pelo primeiro argumento de linha de comando. Se nenhum argumento de linha de comando for fornecido, utilize 10 como o tamanho padrão do array."
   ]
  },
  {
   "cell_type": "markdown",
   "id": "9f6c66e7",
   "metadata": {},
   "source": [
    "⭐ 7.16 - Instrução for aprimorada\n",
    "\n",
    "Escreva um aplicativo que use uma instrução for aprimorada para somar os valores double passados pelos argumentos de linha de comando.Dica: utilize o método static parseDouble da classe Double para converter uma String em um valor double."
   ]
  },
  {
   "cell_type": "markdown",
   "id": "98670e53",
   "metadata": {},
   "source": [
    "⭐ 7.17 - Jogo de dados\n",
    "\n",
    "Escreva um aplicativo para simular o lançamento de dois dados.O aplicativo deve utilizar um objeto de classe Random, uma vez para lançar o primeiro dado e novamente para lançar o segundo dado. A soma dos dois valores do dado então será calculada.\n",
    "\n",
    "Cada dado pode mostrar um valor inteiro de 1 a 6, portanto a soma dos valores irá variar de 2 a 12, com 2 e 12 sendo as somas menos frequentes e 6 e 7 as mais frequentes.\n",
    "\n",
    "Seu aplicativo deve lançar o dado 36.000 vezes. Utilize um array unidimensional para contar o número de vezes que cada possível soma aparece. Exiba os resultados em formato tabular."
   ]
  }
 ],
 "metadata": {
  "language_info": {
   "name": "python"
  }
 },
 "nbformat": 4,
 "nbformat_minor": 5
}
