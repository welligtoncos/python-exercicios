{
 "cells": [
  {
   "cell_type": "markdown",
   "id": "a7c32320",
   "metadata": {},
   "source": []
  },
  {
   "cell_type": "markdown",
   "id": "07a5855e",
   "metadata": {},
   "source": [
    "⭐ 7.6 - Preenchimento de lacunas\n",
    "\n",
    "Preencha as lacunas em cada uma das seguintes afirmações:\n",
    "\n",
    "a) O array unidimensional p contém quatro elementos. Os nomes desses elementos são ___, ___, ___ e ___.\n",
    "\n",
    "b) Nomear um array, declarar seu tipo e especificar o número de dimensões no array é chamado de ___.\n",
    "\n",
    "c) Em um array bidimensional, o primeiro índice identifica o ___ de um elemento e o segundo índice identifica o ___ de um elemento.\n",
    "\n",
    "d) Um array com n linhas e m colunas tem ___ linhas, ___ colunas e ___ elementos.\n",
    "\n",
    "e) O nome do elemento na linha 3 e na coluna 5 do array d é ___."
   ]
  },
  {
   "cell_type": "markdown",
   "id": "29a10755",
   "metadata": {},
   "source": [
    "⭐ 7.6 - Preenchimento de lacunas (versão Python)\n",
    "\n",
    "Preencha as lacunas em cada uma das seguintes afirmações:\n",
    "\n",
    "a) O array unidimensional p contém quatro elementos. Os nomes desses elementos são p[0], p[1], p[2] e p[3].\n",
    "\n",
    "b) Nomear uma lista, declarar seu tipo e especificar o número de dimensões na estrutura é chamado de declaração de lista.\n",
    "\n",
    "c) Em uma lista bidimensional (lista de listas), o primeiro índice identifica o índice da linha de um elemento e o segundo índice identifica o índice da coluna de um elemento.\n",
    "\n",
    "d) Uma lista com n linhas e m colunas tem n linhas, m colunas e n × m elementos.\n",
    "\n",
    "e) O nome do elemento na linha 3 e na coluna 5 da lista d é d[3][5]."
   ]
  },
  {
   "cell_type": "markdown",
   "id": "4e841a2c",
   "metadata": {},
   "source": [
    "⭐ 7.7 - Verdadeiro ou falso (versão Python)\n",
    "\n",
    "Determine se cada uma das seguintes afirmações é verdadeira ou falsa com base na linguagem Python. Se for falsa, explique por quê:\n",
    "\n",
    "a) Para referir-se a uma localização particular ou elemento dentro de um array, especificamos o nome do array e o valor do elemento.\n",
    "\n",
    "Falso. Em Python, acessamos um elemento com o nome da lista e seu índice, como lista[0], e não com o valor.\n",
    "\n",
    "b) Uma declaração de array reserva espaço para o array.\n",
    "\n",
    "Falso. Em Python, declarar uma lista com lista = [] não reserva espaço. Espaço só é reservado ao adicionar elementos.\n",
    "\n",
    "c) Para indicar que 100 localizações devem ser reservadas para o array de inteiros p, o programador escreve a declaração p[100];\n",
    "Falso. Essa sintaxe é inválida em Python. A forma correta seria p = [0] * 100.\n",
    "\n",
    "d) Um aplicativo que inicializa os elementos de um array de 15 elementos como zero deve conter pelo menos uma instrução for.Falso. Podemos usar p = [0] * 15 para inicializar todos os elementos sem usar for.\n",
    "\n",
    "e) Um aplicativo que soma os elementos de um array bidimensional deve conter instruções for aninhadas.Verdadeiro. Para percorrer todos os elementos de uma lista de listas (matriz) em Python, normalmente utilizamos loops aninhados."
   ]
  },
  {
   "cell_type": "markdown",
   "id": "820cd728",
   "metadata": {},
   "source": [
    "⭐ 7.8 - Instruções Java\n",
    "\n",
    "Escreva instruções Java para realizar cada uma das seguintes tarefas:\n",
    "\n",
    "a) Exiba o valor do elemento 6 do array t.\n",
    "b) Inicialize cada um dos 10 elementos de t, array de inteiros unidimensional g como 8.\n",
    "c) Copie os 100 elementos do array fonte para o array de destino, que contém 34 elementos.\n",
    "d) Determine e exiba os maiores e menores valores contidos no array de ponto flutuante w de 99 elementos"
   ]
  },
  {
   "cell_type": "markdown",
   "id": "8af87aa6",
   "metadata": {},
   "source": [
    " 7.8 - Instruções em Python\n",
    "\n",
    "Escreva instruções em Python para realizar cada uma das seguintes tarefas:\n",
    "\n",
    "a) Exiba o valor do elemento 6 da lista t."
   ]
  },
  {
   "cell_type": "code",
   "execution_count": 7,
   "id": "0cef3333",
   "metadata": {},
   "outputs": [
    {
     "name": "stdout",
     "output_type": "stream",
     "text": [
      "Elemento 6 da lista t: 6\n"
     ]
    }
   ],
   "source": [
    "t = [0, 1, 2, 3, 4, 5, 6, 7]\n",
    "print(\"Elemento 6 da lista t:\", t[6])"
   ]
  },
  {
   "cell_type": "markdown",
   "id": "b6744c11",
   "metadata": {},
   "source": [
    "b) Inicialize cada um dos 10 elementos da lista g como 8."
   ]
  },
  {
   "cell_type": "code",
   "execution_count": 8,
   "id": "75f8e7d7",
   "metadata": {},
   "outputs": [
    {
     "name": "stdout",
     "output_type": "stream",
     "text": [
      "Lista g: [8, 8, 8, 8, 8, 8, 8, 8, 8, 8]\n"
     ]
    }
   ],
   "source": [
    "g = [8] * 10\n",
    "print(\"Lista g:\", g)"
   ]
  },
  {
   "cell_type": "markdown",
   "id": "17fec4d2",
   "metadata": {},
   "source": [
    "c) Copie os 100 primeiros elementos da lista fonte para a lista destino, que inicialmente tem apenas 34 elementos."
   ]
  },
  {
   "cell_type": "code",
   "execution_count": 9,
   "id": "195cbddf",
   "metadata": {},
   "outputs": [
    {
     "name": "stdout",
     "output_type": "stream",
     "text": [
      "Lista destino: [0, 1, 2, 3, 4, 5, 6, 7, 8, 9, 10, 11, 12, 13, 14, 15, 16, 17, 18, 19, 20, 21, 22, 23, 24, 25, 26, 27, 28, 29, 30, 31, 32, 33]\n"
     ]
    }
   ],
   "source": [
    "fonte = list(range(100))\n",
    "destino = fonte[:34]  # Cópia dos primeiros 34 elementos\n",
    "print(\"Lista destino:\", destino)"
   ]
  },
  {
   "cell_type": "markdown",
   "id": "7e214ec8",
   "metadata": {},
   "source": [
    "d) Determine e exiba os maiores e menores valores contidos na lista de ponto flutuante w com 99 elementos."
   ]
  },
  {
   "cell_type": "code",
   "execution_count": 10,
   "id": "189d4c7c",
   "metadata": {},
   "outputs": [
    {
     "name": "stdout",
     "output_type": "stream",
     "text": [
      "Maior valor: 99.9988637425672\n",
      "Menor valor: 0.004014679537478472\n"
     ]
    }
   ],
   "source": [
    "import random\n",
    "w = [random.uniform(0, 100) for _ in range(99)]\n",
    "print(\"Maior valor:\", max(w))\n",
    "print(\"Menor valor:\", min(w))"
   ]
  },
  {
   "cell_type": "markdown",
   "id": "ff013c12",
   "metadata": {},
   "source": [
    "Obs: Em Python, não é possível copiar 100 elementos para uma lista que só comporta 34. Aqui, interpretamos que destino deve receber até onde cabe."
   ]
  },
  {
   "cell_type": "markdown",
   "id": "cd9446be",
   "metadata": {},
   "source": [
    "⭐ 7.9 - Array bidimensional t\n",
    "\n",
    "Considere um array de inteiros dois por três t:\n",
    "\n",
    "a) Escreva uma instrução que declara e cria t.\n",
    "\n",
    "b) Quantas linhas tem t?\n",
    "\n",
    "c) Quantas colunas tem t?\n",
    "\n",
    "d) Quantos elementos tem t?\n",
    "\n",
    "e) Escreva expressões de acesso para todos os elementos na linha 1 de t.\n",
    "\n",
    "f) Escreva expressões de acesso para todos os elementos na coluna 2 de t.\n",
    "\n",
    "g) Escreva uma única instrução que configura o elemento de t na linha 0 e na coluna 1 como zero.\n",
    "\n",
    "h) Escreva instruções individuais para inicializar cada elemento de t para zero.\n",
    "\n",
    "i) Escreva uma instrução for aninhada que inicializa cada elemento de t como zero.\n",
    "\n",
    "j) Escreva uma instrução for aninhada que insere os valores para os elementos de t.\n",
    "\n",
    "k) Escreva uma série de instruções que determina e exibe o valor menor em t.\n",
    "\n",
    "l) Escreva uma instrução print que exibe os elementos da primeira linha de t.\n",
    "\n",
    "m) Escreva uma série de instruções que soma os elementos da terceira coluna de t.\n",
    "\n",
    "n) Liste os índices de linha à esquerda de cada linha e os índices de coluna como títulos na parte superior. Exiba o conteúdo de t no formato tabular."
   ]
  },
  {
   "cell_type": "markdown",
   "id": "6817faea",
   "metadata": {},
   "source": [
    "⭐ 7.9 - Array bidimensional t (versão Python)"
   ]
  },
  {
   "cell_type": "markdown",
   "id": "c99a3cf0",
   "metadata": {},
   "source": [
    "Considere uma lista de inteiros 2 por 3 t (duas linhas e três colunas):"
   ]
  },
  {
   "cell_type": "markdown",
   "id": "4b03d304",
   "metadata": {},
   "source": [
    "a) Criar e declarar t:"
   ]
  },
  {
   "cell_type": "code",
   "execution_count": 11,
   "id": "b202bd5b",
   "metadata": {},
   "outputs": [],
   "source": [
    "t = [[0, 0, 0], [0, 0, 0]]"
   ]
  },
  {
   "cell_type": "markdown",
   "id": "dd133cc5",
   "metadata": {},
   "source": [
    "b) Quantas linhas tem t?\n"
   ]
  },
  {
   "cell_type": "code",
   "execution_count": 12,
   "id": "2c41f5de",
   "metadata": {},
   "outputs": [
    {
     "name": "stdout",
     "output_type": "stream",
     "text": [
      "Linhas: 2\n"
     ]
    }
   ],
   "source": [
    "print(\"Linhas:\", len(t))  # 2"
   ]
  },
  {
   "cell_type": "markdown",
   "id": "19169db4",
   "metadata": {},
   "source": [
    "c) Quantas colunas tem t?"
   ]
  },
  {
   "cell_type": "code",
   "execution_count": 13,
   "id": "b2a0ddeb",
   "metadata": {},
   "outputs": [
    {
     "name": "stdout",
     "output_type": "stream",
     "text": [
      "Colunas: 3\n"
     ]
    }
   ],
   "source": [
    "print(\"Colunas:\", len(t[0]))  # 3"
   ]
  },
  {
   "cell_type": "markdown",
   "id": "9979a4cf",
   "metadata": {},
   "source": [
    "d) Quantos elementos tem t?"
   ]
  },
  {
   "cell_type": "code",
   "execution_count": 14,
   "id": "0fb856f4",
   "metadata": {},
   "outputs": [
    {
     "name": "stdout",
     "output_type": "stream",
     "text": [
      "Total de elementos: 6\n"
     ]
    }
   ],
   "source": [
    "elementos = sum(len(row) for row in t)\n",
    "print(\"Total de elementos:\", elementos)  # 6"
   ]
  },
  {
   "cell_type": "markdown",
   "id": "54708f51",
   "metadata": {},
   "source": [
    "e) Expressões para acessar todos os elementos da linha 1:"
   ]
  },
  {
   "cell_type": "code",
   "execution_count": 15,
   "id": "079012e5",
   "metadata": {},
   "outputs": [
    {
     "data": {
      "text/plain": [
       "(0, 0, 0)"
      ]
     },
     "execution_count": 15,
     "metadata": {},
     "output_type": "execute_result"
    }
   ],
   "source": [
    "t[1][0], t[1][1], t[1][2]"
   ]
  },
  {
   "cell_type": "markdown",
   "id": "12f654a2",
   "metadata": {},
   "source": [
    "f) Expressões para acessar todos os elementos da coluna 2:"
   ]
  },
  {
   "cell_type": "code",
   "execution_count": 16,
   "id": "6b5ebfcc",
   "metadata": {},
   "outputs": [
    {
     "data": {
      "text/plain": [
       "(0, 0)"
      ]
     },
     "execution_count": 16,
     "metadata": {},
     "output_type": "execute_result"
    }
   ],
   "source": [
    "t[0][2], t[1][2]"
   ]
  },
  {
   "cell_type": "markdown",
   "id": "21f473fa",
   "metadata": {},
   "source": [
    "g) Atribuir zero ao elemento da linha 0 e coluna 1:"
   ]
  },
  {
   "cell_type": "code",
   "execution_count": 19,
   "id": "ddecd458",
   "metadata": {},
   "outputs": [
    {
     "data": {
      "text/plain": [
       "0"
      ]
     },
     "execution_count": 19,
     "metadata": {},
     "output_type": "execute_result"
    }
   ],
   "source": [
    "t[0][1] = 0\n",
    "\n",
    "t[0][1]"
   ]
  },
  {
   "cell_type": "markdown",
   "id": "f18d4da7",
   "metadata": {},
   "source": [
    "f) Expressões para acessar todos os elementos da coluna 2:"
   ]
  },
  {
   "cell_type": "markdown",
   "id": "3b6e7fe8",
   "metadata": {},
   "source": [
    "g) Atribuir zero ao elemento da linha 0 e coluna 1:"
   ]
  },
  {
   "cell_type": "code",
   "execution_count": 21,
   "id": "7a8b41d7",
   "metadata": {},
   "outputs": [
    {
     "data": {
      "text/plain": [
       "0"
      ]
     },
     "execution_count": 21,
     "metadata": {},
     "output_type": "execute_result"
    }
   ],
   "source": [
    "t[0][1] = 0\n",
    "\n",
    "t[0][1]"
   ]
  },
  {
   "cell_type": "markdown",
   "id": "c7a6fc3c",
   "metadata": {},
   "source": [
    "h) Inicializar cada elemento individualmente como zero:"
   ]
  },
  {
   "cell_type": "code",
   "execution_count": 25,
   "id": "73ad1b6f",
   "metadata": {},
   "outputs": [
    {
     "data": {
      "text/plain": [
       "0"
      ]
     },
     "execution_count": 25,
     "metadata": {},
     "output_type": "execute_result"
    }
   ],
   "source": [
    "t[0][0] = 0\n",
    "t[0][1] = 0\n",
    "t[0][2] = 0\n",
    "t[1][0] = 0\n",
    "t[1][1] = 0\n",
    "t[1][2] = 0\n",
    "\n",
    " "
   ]
  },
  {
   "cell_type": "markdown",
   "id": "890fc195",
   "metadata": {},
   "source": [
    "i) Usar loop aninhado para zerar todos os elementos:"
   ]
  },
  {
   "cell_type": "code",
   "execution_count": 27,
   "id": "f4e8140c",
   "metadata": {},
   "outputs": [
    {
     "name": "stdout",
     "output_type": "stream",
     "text": [
      "Resultaado 0\n",
      "Resultaado 0\n",
      "Resultaado 0\n",
      "Resultaado 0\n",
      "Resultaado 0\n",
      "Resultaado 0\n"
     ]
    }
   ],
   "source": [
    "for i in range(len(t)):\n",
    "    for j in range(len(t[i])):\n",
    "        t[i][j] = 0 \n",
    "\n",
    "\n",
    "for i in range(len(t)):\n",
    "    for j in range(len(t[i])): \n",
    "        print(\"Resultaado\", t[i][j])"
   ]
  },
  {
   "cell_type": "markdown",
   "id": "fbede24f",
   "metadata": {},
   "source": [
    "j) Inserir valores manualmente usando loop:"
   ]
  },
  {
   "cell_type": "code",
   "execution_count": 32,
   "id": "8f438122",
   "metadata": {},
   "outputs": [
    {
     "name": "stdout",
     "output_type": "stream",
     "text": [
      "Resultado  1\n",
      "Resultado  2\n",
      "Resultado  3\n",
      "Resultado  4\n",
      "Resultado  5\n",
      "Resultado  6\n"
     ]
    }
   ],
   "source": [
    "valor = 1\n",
    "for i in range(len(t)):\n",
    "    for j in range(len(t[i])):\n",
    "        t[i][j] = valor\n",
    "        valor += 1\n",
    "\n",
    "\n",
    "valor = 1\n",
    "for i in range(len(t)):\n",
    "    for j in range(len(t[i])):\n",
    "        print('Resultado ',t[i][j]) \n",
    "         "
   ]
  },
  {
   "cell_type": "markdown",
   "id": "19a8565e",
   "metadata": {},
   "source": [
    "k) Encontrar e exibir o menor valor de t:"
   ]
  },
  {
   "cell_type": "code",
   "execution_count": 33,
   "id": "a82c9adb",
   "metadata": {},
   "outputs": [
    {
     "name": "stdout",
     "output_type": "stream",
     "text": [
      "Menor valor: 1\n"
     ]
    }
   ],
   "source": [
    "menor = min(min(row) for row in t)\n",
    "print(\"Menor valor:\", menor)"
   ]
  },
  {
   "cell_type": "markdown",
   "id": "b858a0fb",
   "metadata": {},
   "source": [
    "l) Exibir os elementos da primeira linha:"
   ]
  },
  {
   "cell_type": "code",
   "execution_count": 34,
   "id": "0cb3b048",
   "metadata": {},
   "outputs": [
    {
     "name": "stdout",
     "output_type": "stream",
     "text": [
      "Primeira linha: [1, 2, 3]\n"
     ]
    }
   ],
   "source": [
    "print(\"Primeira linha:\", t[0])"
   ]
  },
  {
   "cell_type": "markdown",
   "id": "f1c2cd9d",
   "metadata": {},
   "source": [
    "m) Somar os elementos da terceira coluna:"
   ]
  },
  {
   "cell_type": "code",
   "execution_count": 35,
   "id": "2071b5d9",
   "metadata": {},
   "outputs": [
    {
     "name": "stdout",
     "output_type": "stream",
     "text": [
      "Soma da terceira coluna: 9\n"
     ]
    }
   ],
   "source": [
    "soma_coluna_2 = t[0][2] + t[1][2]\n",
    "print(\"Soma da terceira coluna:\", soma_coluna_2)"
   ]
  },
  {
   "cell_type": "markdown",
   "id": "b4dfd741",
   "metadata": {},
   "source": [
    "n) Exibir a matriz com índices de linha e colunas:"
   ]
  },
  {
   "cell_type": "code",
   "execution_count": 36,
   "id": "8973b218",
   "metadata": {},
   "outputs": [
    {
     "name": "stdout",
     "output_type": "stream",
     "text": [
      "\t0\t1\t2\n",
      "0\t1\t2\t3\n",
      "1\t4\t5\t6\n"
     ]
    }
   ],
   "source": [
    "print(\"\t0\t1\t2\")\n",
    "for i, row in enumerate(t):\n",
    "    print(f\"{i}\t\" + \"\t\".join(map(str, row)))"
   ]
  },
  {
   "cell_type": "markdown",
   "id": "6d8b0652",
   "metadata": {},
   "source": [
    "⭐ 7.10 - Comissões de vendas (versão Python)\n",
    "\n",
    "Utilize um array unidimensional para resolver o seguinte problema:Uma empresa paga seu pessoal de vendas por comissão. O pessoal de vendas recebe R$ 200 por semana mais 9% de suas vendas brutas durante essa semana.Por exemplo, um vendedor que vende R$ 5.000 brutos em uma semana recebe R$ 200 mais 9% de R$ 5.000, um total de R$ 650.\n",
    "\n",
    "Escreva um aplicativo (utilizando uma lista de contadores) que determine quantos vendedores receberam salários em cada um dos seguintes intervalos:\n",
    "\n",
    "a) R$ 200–299\n",
    "\n",
    "b) R$ 300–399\n",
    "\n",
    "c) R$ 400–499\n",
    "\n",
    "d) R$ 500–599\n",
    "\n",
    "e) R$ 600–699\n",
    "\n",
    "f) R$ 700–799\n",
    "\n",
    "g) R$ 800–899\n",
    "\n",
    "h) R$ 900–999\n",
    "\n",
    "i) R$ 1.000 e acima"
   ]
  },
  {
   "cell_type": "code",
   "execution_count": 37,
   "id": "392dd680",
   "metadata": {},
   "outputs": [
    {
     "name": "stdout",
     "output_type": "stream",
     "text": [
      "Faixa de salário\tQuantidade\n",
      "R$200-299\t1\n",
      "R$300-399\t3\n",
      "R$400-499\t5\n",
      "R$500-599\t2\n",
      "R$600-699\t2\n",
      "R$700-799\t2\n",
      "R$800-899\t2\n",
      "R$900-999\t0\n",
      "R$1000 ou mais\t3\n"
     ]
    }
   ],
   "source": [
    "# Lista simulada com valores de vendas brutas de 20 vendedores\n",
    "vendas = [5000, 3000, 10000, 4000, 1500, 6500, 7000, 1200, 800, 11000,\n",
    "          4500, 3100, 2300, 1900, 6000, 7500, 9000, 2500, 4100, 2900]\n",
    "\n",
    "# Lista de contadores para os 9 intervalos de salário\n",
    "contadores = [0] * 9\n",
    "\n",
    "for venda in vendas:\n",
    "    salario = 200 + 0.09 * venda\n",
    "    faixa = int(salario // 100) - 2  # faixa 0 para 200-299, 1 para 300-399, ..., 8 para 1000+\n",
    "    if faixa >= 8:\n",
    "        contadores[8] += 1\n",
    "    else:\n",
    "        contadores[faixa] += 1\n",
    "\n",
    "# Exibir resultado em formato tabular\n",
    "print(\"Faixa de salário\tQuantidade\")\n",
    "faixas_salario = [\"R$200-299\", \"R$300-399\", \"R$400-499\", \"R$500-599\", \"R$600-699\",\n",
    "                  \"R$700-799\", \"R$800-899\", \"R$900-999\", \"R$1000 ou mais\"]\n",
    "\n",
    "for i in range(9):\n",
    "    print(f\"{faixas_salario[i]}\t{contadores[i]}\")"
   ]
  },
  {
   "cell_type": "markdown",
   "id": "e3ee1fa9",
   "metadata": {},
   "source": [
    "⭐ 7.11 - Operações em arrays unidimensionais\n",
    "\n",
    "a) Configure os 10 elementos do array de inteiros counts como zeros.\n",
    "b) Adicione um a cada um dos 15 elementos do array de inteiros bonus.\n",
    "c) Exiba os cinco valores do array de inteiros bestScores em formato de coluna."
   ]
  },
  {
   "cell_type": "markdown",
   "id": "caf30abd",
   "metadata": {},
   "source": [
    "⭐ 7.11 - Operações em arrays unidimensionais (versão Python)\n",
    "\n",
    "a) Configure os 10 elementos do array de inteiros counts como zeros:"
   ]
  },
  {
   "cell_type": "code",
   "execution_count": 38,
   "id": "9ad4c70e",
   "metadata": {},
   "outputs": [
    {
     "name": "stdout",
     "output_type": "stream",
     "text": [
      "counts: [0, 0, 0, 0, 0, 0, 0, 0, 0, 0]\n"
     ]
    }
   ],
   "source": [
    "counts = [0] * 10\n",
    "print(\"counts:\", counts)"
   ]
  },
  {
   "cell_type": "markdown",
   "id": "71e76395",
   "metadata": {},
   "source": [
    "b) Adicione um a cada um dos 15 elementos do array de inteiros bonus:"
   ]
  },
  {
   "cell_type": "code",
   "execution_count": 39,
   "id": "86f97534",
   "metadata": {},
   "outputs": [
    {
     "name": "stdout",
     "output_type": "stream",
     "text": [
      "bonus: [1, 1, 1, 1, 1, 1, 1, 1, 1, 1, 1, 1, 1, 1, 1]\n"
     ]
    }
   ],
   "source": [
    "bonus = [0] * 15\n",
    "for i in range(len(bonus)):\n",
    "    bonus[i] += 1\n",
    "print(\"bonus:\", bonus)"
   ]
  },
  {
   "cell_type": "markdown",
   "id": "d984217c",
   "metadata": {},
   "source": [
    "c) Exiba os cinco valores do array de inteiros bestScores em formato de coluna:"
   ]
  },
  {
   "cell_type": "code",
   "execution_count": 40,
   "id": "2f6bf8d2",
   "metadata": {},
   "outputs": [
    {
     "name": "stdout",
     "output_type": "stream",
     "text": [
      "bestScores:\n",
      "98\n",
      "87\n",
      "92\n",
      "75\n",
      "88\n"
     ]
    }
   ],
   "source": [
    "bestScores = [98, 87, 92, 75, 88]\n",
    "print(\"bestScores:\")\n",
    "for score in bestScores:\n",
    "    print(score)"
   ]
  },
  {
   "cell_type": "markdown",
   "id": "d9bf86c2",
   "metadata": {},
   "source": [
    "⭐ 7.12 - Eliminação de duplicatas (versão Python)\n",
    "\n",
    "Utilize um array unidimensional para resolver o seguinte problema:Escreva um aplicativo que insere cinco números, cada um entre 10 e 100, inclusive. Enquanto cada número é lido, exiba-o somente se ele não tiver uma duplicata de um número já lido. Cuide de tratar o “pior caso”, em que todos os cinco números são diferentes. Utilize o menor array possível para resolver esse problema. Exiba o conjunto completo de valores únicos inseridos depois que o usuário inserir cada valor novo."
   ]
  },
  {
   "cell_type": "code",
   "execution_count": 41,
   "id": "b78b638c",
   "metadata": {},
   "outputs": [
    {
     "name": "stdout",
     "output_type": "stream",
     "text": [
      "Valor aceito: 20\n",
      "Valores únicos até agora: [20]\n",
      "Valor aceito: 30\n",
      "Valores únicos até agora: [20, 30]\n",
      "Valor aceito: 50\n",
      "Valores únicos até agora: [20, 30, 50]\n",
      "Número 20 já foi inserido. Ignorado.\n",
      "Valores únicos até agora: [20, 30, 50]\n",
      "Número 30 já foi inserido. Ignorado.\n",
      "Valores únicos até agora: [20, 30, 50]\n"
     ]
    }
   ],
   "source": [
    "valores_unicos = []\n",
    "\n",
    "for i in range(5):\n",
    "    numero = int(input(f\"Digite o número {i+1} (entre 10 e 100): \"))\n",
    "    if 10 <= numero <= 100:\n",
    "        if numero not in valores_unicos:\n",
    "            valores_unicos.append(numero)\n",
    "            print(f\"Valor aceito: {numero}\")\n",
    "        else:\n",
    "            print(f\"Número {numero} já foi inserido. Ignorado.\")\n",
    "    else:\n",
    "        print(\"Número fora do intervalo permitido. Ignorado.\")\n",
    "    print(\"Valores únicos até agora:\", valores_unicos)"
   ]
  },
  {
   "cell_type": "markdown",
   "id": "3ea354cb",
   "metadata": {},
   "source": [
    "⭐ 7.13 - Inicialização em array bidimensional (versão Python)\n",
    "\n",
    "Rotule os elementos da matriz tridimensional sales (3 linhas e 5 colunas) para indicar a ordem em que eles são configurados com zero pelo seguinte segmento de programa:\n",
    "\n",
    "\n",
    "Rotule os elementos do array bidimensional três por cinco sales para indicar a ordem em que eles são configurados com zero pelo seguinte segmento de programa:\n",
    "\n",
    "for (int row = 0; row < sales.length; row++) {\n",
    "    for (int col = 0; col < sales[row].length; col++) {\n",
    "        sales[row][col] = 0;\n",
    "    }\n",
    "}"
   ]
  },
  {
   "cell_type": "code",
   "execution_count": 43,
   "id": "b1041a0b",
   "metadata": {},
   "outputs": [
    {
     "name": "stdout",
     "output_type": "stream",
     "text": [
      "Elemento [0][0] inicializado como 0 (posição 1)\n",
      "Elemento [0][1] inicializado como 0 (posição 2)\n",
      "Elemento [0][2] inicializado como 0 (posição 3)\n",
      "Elemento [0][3] inicializado como 0 (posição 4)\n",
      "Elemento [0][4] inicializado como 0 (posição 5)\n",
      "Elemento [1][0] inicializado como 0 (posição 6)\n",
      "Elemento [1][1] inicializado como 0 (posição 7)\n",
      "Elemento [1][2] inicializado como 0 (posição 8)\n",
      "Elemento [1][3] inicializado como 0 (posição 9)\n",
      "Elemento [1][4] inicializado como 0 (posição 10)\n",
      "Elemento [2][0] inicializado como 0 (posição 11)\n",
      "Elemento [2][1] inicializado como 0 (posição 12)\n",
      "Elemento [2][2] inicializado como 0 (posição 13)\n",
      "Elemento [2][3] inicializado como 0 (posição 14)\n",
      "Elemento [2][4] inicializado como 0 (posição 15)\n",
      "[0, 0, 0, 0, 0]\n",
      "[0, 0, 0, 0, 0]\n",
      "[0, 0, 0, 0, 0]\n"
     ]
    }
   ],
   "source": [
    "sales = [[None for _ in range(5)] for _ in range(3)]\n",
    "contador = 1\n",
    "for row in range(len(sales)):\n",
    "    for col in range(len(sales[row])):\n",
    "        sales[row][col] = 0  # atribuição real\n",
    "        print(f\"Elemento [{row}][{col}] inicializado como 0 (posição {contador})\")\n",
    "        contador += 1\n",
    "\n",
    "# Opcional: mostrar matriz final\n",
    "for row in sales:\n",
    "    print(row)"
   ]
  },
  {
   "cell_type": "markdown",
   "id": "c1782a3e",
   "metadata": {},
   "source": [
    " 7.14 - Lista de argumentos de comprimento variável (versão Python)\n",
    "\n",
    "Escreva um aplicativo que calcula o produto de uma série de inteiros que são passados para o método product utilizando uma lista de argumentos de comprimento variável. Teste seu método com várias chamadas, cada uma com um número diferente de argumentos."
   ]
  },
  {
   "cell_type": "code",
   "execution_count": 44,
   "id": "d5f57943",
   "metadata": {},
   "outputs": [
    {
     "name": "stdout",
     "output_type": "stream",
     "text": [
      "Produto 2 * 3: 6\n",
      "Produto 4 * 5 * 6: 120\n",
      "Produto 7: 7\n",
      "Produto nenhum argumento: 1\n"
     ]
    }
   ],
   "source": [
    "def product(*numeros):\n",
    "    resultado = 1\n",
    "    for n in numeros:\n",
    "        resultado *= n\n",
    "    return resultado\n",
    "\n",
    "# Testes com diferentes quantidades de argumentos\n",
    "print(\"Produto 2 * 3:\", product(2, 3))\n",
    "print(\"Produto 4 * 5 * 6:\", product(4, 5, 6))\n",
    "print(\"Produto 7:\", product(7))\n",
    "print(\"Produto nenhum argumento:\", product())  # Deve retornar 1"
   ]
  },
  {
   "cell_type": "markdown",
   "id": "7997405a",
   "metadata": {},
   "source": [
    "⭐ 7.15 - Argumentos de linha de comando (versão Python)\n",
    "\n",
    "Reescreva a Figura 7.2 para que o tamanho do array seja especificado pelo primeiro argumento de linha de comando. Se nenhum argumento de linha de comando for fornecido, utilize 10 como o tamanho padrão do array."
   ]
  },
  {
   "cell_type": "code",
   "execution_count": 45,
   "id": "8a079ef3",
   "metadata": {},
   "outputs": [
    {
     "name": "stdout",
     "output_type": "stream",
     "text": [
      "Argumento inválido. Usando tamanho padrão de 10.\n",
      "Array criado com 10 elementos: [0, 0, 0, 0, 0, 0, 0, 0, 0, 0]\n"
     ]
    }
   ],
   "source": [
    "import sys\n",
    "\n",
    "# Verifica se foi passado argumento de linha de comando\n",
    "if len(sys.argv) > 1:\n",
    "    try:\n",
    "        tamanho = int(sys.argv[1])\n",
    "    except ValueError:\n",
    "        print(\"Argumento inválido. Usando tamanho padrão de 10.\")\n",
    "        tamanho = 10\n",
    "else:\n",
    "    tamanho = 10\n",
    "\n",
    "# Cria uma lista com o tamanho especificado, preenchida com zeros\n",
    "array = [0] * tamanho\n",
    "print(f\"Array criado com {tamanho} elementos:\", array)"
   ]
  },
  {
   "cell_type": "markdown",
   "id": "9f6c66e7",
   "metadata": {},
   "source": [
    "⭐ 7.16 - Instrução for aprimorada\n",
    "\n",
    "Escreva um aplicativo que use uma instrução for aprimorada para somar os valores double passados pelos argumentos de linha de comando.Dica: utilize o método static parseDouble da classe Double para converter uma String em um valor double."
   ]
  },
  {
   "cell_type": "code",
   "execution_count": 50,
   "id": "b97d3bd0",
   "metadata": {},
   "outputs": [
    {
     "name": "stdout",
     "output_type": "stream",
     "text": [
      "Argumento inválido ignorado: abc\n",
      "Soma total dos valores: 60.7\n"
     ]
    }
   ],
   "source": [
    "# Simulando argumentos de linha de comando diretamente no script\n",
    "args = [\"10.5\", \"20\", \"abc\", \"30.2\"]\n",
    "\n",
    "# Converte para float e soma usando for aprimorado\n",
    "soma = 0.0\n",
    "for arg in args:\n",
    "    try:\n",
    "        valor = float(arg)\n",
    "        soma += valor\n",
    "    except ValueError:\n",
    "        print(f\"Argumento inválido ignorado: {arg}\")\n",
    "\n",
    "print(\"Soma total dos valores:\", soma)"
   ]
  },
  {
   "cell_type": "markdown",
   "id": "98670e53",
   "metadata": {},
   "source": [
    "⭐ 7.17 - Jogo de dados (versão Python)\n",
    "\n",
    "Escreva um aplicativo para simular o lançamento de dois dados. O aplicativo deve utilizar um objeto de classe random, uma vez para lançar o primeiro dado e novamente para lançar o segundo dado. A soma dos dois valores do dado então será calculada.\n",
    "\n",
    "Cada dado pode mostrar um valor inteiro de 1 a 6, portanto a soma dos valores irá variar de 2 a 12, com 2 e 12 sendo as somas menos frequentes e 6 e 7 as mais frequentes.\n",
    "\n",
    "Seu aplicativo deve lançar o dado 36.000 vezes. Utilize um array unidimensional para contar o número de vezes que cada possível soma aparece. Exiba os resultados em formato tabular."
   ]
  },
  {
   "cell_type": "code",
   "execution_count": 53,
   "id": "700d6fb6",
   "metadata": {},
   "outputs": [
    {
     "name": "stdout",
     "output_type": "stream",
     "text": [
      "Soma\tFrequência\n",
      "2\t983\n",
      "3\t2005\n",
      "4\t2889\n",
      "5\t4005\n",
      "6\t4932\n",
      "7\t6054\n",
      "8\t5058\n",
      "9\t3948\n",
      "10\t3055\n",
      "11\t2084\n",
      "12\t987\n"
     ]
    }
   ],
   "source": [
    "import random\n",
    "\n",
    "# Inicializa lista para contagem de somas de 2 a 12 (índices 2 a 12)\n",
    "frequencias = [0] * 13  # índices 0 e 1 não serão usados\n",
    "\n",
    "# Lançar os dados 36.000 vezes\n",
    "for _ in range(36000):\n",
    "    dado1 = random.randint(1, 6)\n",
    "    dado2 = random.randint(1, 6)\n",
    "    soma = dado1 + dado2\n",
    "    frequencias[soma] += 1\n",
    "\n",
    "# Exibir resultados em formato tabular\n",
    "print(\"Soma\tFrequência\")\n",
    "for valor in range(2, 13):\n",
    "    print(f\"{valor}\t{frequencias[valor]}\")"
   ]
  }
 ],
 "metadata": {
  "kernelspec": {
   "display_name": "venv-wsl",
   "language": "python",
   "name": "python3"
  },
  "language_info": {
   "codemirror_mode": {
    "name": "ipython",
    "version": 3
   },
   "file_extension": ".py",
   "mimetype": "text/x-python",
   "name": "python",
   "nbconvert_exporter": "python",
   "pygments_lexer": "ipython3",
   "version": "3.12.4"
  }
 },
 "nbformat": 4,
 "nbformat_minor": 5
}
