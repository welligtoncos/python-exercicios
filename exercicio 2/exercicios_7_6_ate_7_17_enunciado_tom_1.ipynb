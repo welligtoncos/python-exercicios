{
 "cells": [
  {
   "cell_type": "markdown",
   "id": "a7c32320",
   "metadata": {},
   "source": []
  },
  {
   "cell_type": "markdown",
   "id": "07a5855e",
   "metadata": {},
   "source": [
    "⭐ 7.6 - Preenchimento de lacunas\n",
    "\n",
    "Preencha as lacunas em cada uma das seguintes afirmações:\n",
    "\n",
    "a) O array unidimensional p contém quatro elementos. Os nomes desses elementos são p[0], p[1], p[2] e p[3].\n",
    "\n",
    "b) Nomear um array, declarar seu tipo e especificar o número de dimensões no array é chamado de lista.\n",
    "\n",
    "c) Em um array bidimensional, o primeiro índice identifica o linhas de um elemento e o segundo índice identifica o colunas de um elemento.\n",
    "\n",
    "d) Um array com n linhas e m colunas tem n linhas, m colunas e n x m elementos.\n",
    "\n",
    "e) O nome do elemento na linha 3 e na coluna 5 do array d é  d[3][5]."
   ]
  },
  {
   "cell_type": "markdown",
   "id": "ed4d213c",
   "metadata": {},
   "source": [
    "⭐ 7.7 - Verdadeiro ou falso\n",
    "\n",
    "Determine se cada um dos seguintes é verdadeiro ou falso. Se falso, explique por quê:\n",
    "\n",
    "a) Para referir-se a uma localização particular ou elemento dentro de um array, especificamos o nome do array e o valor do elemento.\n",
    "falso\n",
    "\n",
    "b) Uma declaração de array reserva espaço para o array.\n",
    "falso\n",
    "\n",
    "c) Para indicar que 100 localizações devem ser reservadas para o array de inteiros p, o programador escreve a declaração p[100];\n",
    "FALSO\n",
    "\n",
    "d) Um aplicativo que inicializa os elementos de um array de 15 elementos como zero deve conter pelo menos uma instrução for.\n",
    "falso\n",
    "\n",
    "e) Um aplicativo que soma os elementos de um array bidimensional deve conter instruções for aninhadas.\n",
    "VERDADEIRO"
   ]
  },
  {
   "cell_type": "markdown",
   "id": "820cd728",
   "metadata": {},
   "source": [
    "⭐ 7.8 - Instruções Java\n",
    "\n",
    "Escreva instruções Java para realizar cada uma das seguintes tarefas:\n",
    "\n",
    "a) Exiba o valor do elemento 6 do array t.\n",
    "b) Inicialize cada um dos 10 elementos de t, array de inteiros unidimensional g como 8.\n",
    "c) Copie os 100 elementos do array fonte para o array de destino, que contém 34 elementos.\n",
    "d) Determine e exiba os maiores e menores valores contidos no array de ponto flutuante w de 99 elementos"
   ]
  },
  {
   "cell_type": "markdown",
   "id": "d28a94e0",
   "metadata": {},
   "source": [
    "a) Exiba o valor do elemento 6 do array t."
   ]
  },
  {
   "cell_type": "code",
   "execution_count": 2,
   "id": "3b659f80",
   "metadata": {},
   "outputs": [
    {
     "name": "stdout",
     "output_type": "stream",
     "text": [
      "[0, 1, 2, 3, 4, 5]\n"
     ]
    }
   ],
   "source": [
    "t = [0,1,2,3,4,5]\n",
    "\n",
    "print(t)"
   ]
  },
  {
   "cell_type": "markdown",
   "id": "45ea6eea",
   "metadata": {},
   "source": [
    "b) Inicialize cada um dos 10 elementos de t, array de inteiros unidimensional g como 8."
   ]
  },
  {
   "cell_type": "code",
   "execution_count": 14,
   "id": "c935d645",
   "metadata": {},
   "outputs": [
    {
     "name": "stdout",
     "output_type": "stream",
     "text": [
      "10\n",
      "[0.9640327091030286, 0.8829365986619678, 0.40027617038932484, 0.008538690387306924, 0.3386290619887653, 0.1286383828625517, 0.3251389696392031, 0.2065629574621607, 0.8491108488597524, 0.6496668880032376]\n",
      "[0.8634308191637021, 0.8061426616255771, 0.6220923275122313, 0.7596112267462568, 0.6165754553234833, 0.5587088738646758, 0.6238443728508691, 0.21591772438173018]\n"
     ]
    }
   ],
   "source": [
    "import random   \n",
    "t = [0] * 10\n",
    "g = [0] * 8\n",
    "print(len(t))\n",
    "\n",
    " \n",
    "for i in range(len(t)):\n",
    "    valor_aleatorio_t = random.random()\n",
    "    t[i] = valor_aleatorio_t \n",
    "    \n",
    "for i in range(len(g)):\n",
    "    valor_aleatorio_g = random.random() \n",
    "    g[i] = valor_aleatorio_g \n",
    "    \n",
    "print(t)\n",
    "print(g)"
   ]
  },
  {
   "cell_type": "markdown",
   "id": "6661000a",
   "metadata": {},
   "source": [
    "c) Copie os 100 elementos do array fonte para o array de destino, que contém 34 elementos."
   ]
  },
  {
   "cell_type": "code",
   "execution_count": 31,
   "id": "79b41c19",
   "metadata": {},
   "outputs": [
    {
     "name": "stdout",
     "output_type": "stream",
     "text": [
      "33\n",
      "0.9147309698016645\n",
      "0.39617164993265996\n",
      "0.8885122743988318\n",
      "0.5467661606134729\n",
      "0.4589498373991522\n",
      "0.49587884683560246\n",
      "0.2288918082279613\n",
      "0.11228856746298721\n",
      "0.6615764095058936\n",
      "0.9058848511844092\n",
      "0.27449404213751605\n",
      "0.5184948879508878\n",
      "0.3096921429695383\n",
      "0.0831931341948926\n",
      "0.5715183689408342\n",
      "0.02750810628381961\n",
      "0.2108895610890611\n",
      "0.32907893435724034\n",
      "0.9775402536285429\n",
      "0.8832563611355653\n",
      "0.26590659161836305\n",
      "0.6999348434370763\n",
      "0.1846065647076912\n",
      "0.7726988768192499\n",
      "0.12422577645093913\n",
      "0.20802314806654032\n",
      "0.4205797988469827\n",
      "0.14052261554773016\n",
      "0.7884750175203253\n",
      "0.25084033750096635\n",
      "0.08002039245672554\n",
      "0.6226598921511229\n",
      "0.6399004242821781\n"
     ]
    }
   ],
   "source": [
    "array_100 = [0]*100\n",
    "\n",
    "array_destino = [0]*33\n",
    "\n",
    "for i in range(len(array_100)):\n",
    "    array_100[i]= random.random()\n",
    "\n",
    "print(len(array_destino))\n",
    "for i in range(len(array_destino)):  \n",
    "    array_destino[i] = array_100[i]\n",
    "        \n",
    "for i in range(len(array_destino)):\n",
    "    print(array_destino[i])\n",
    " "
   ]
  },
  {
   "cell_type": "markdown",
   "id": "f017aca9",
   "metadata": {},
   "source": [
    "d) Determine e exiba os maiores e menores valores contidos no array de ponto flutuante w de 99 elementos"
   ]
  },
  {
   "cell_type": "code",
   "execution_count": 38,
   "id": "3f22b9c3",
   "metadata": {},
   "outputs": [
    {
     "name": "stdout",
     "output_type": "stream",
     "text": [
      "99\n",
      "0.999040077305701\n",
      "0.03326770236671861\n"
     ]
    }
   ],
   "source": [
    "import random  # Certificando que a importação está presente\n",
    "\n",
    "array_99 = [0]*99\n",
    "print(len(array_99))\n",
    "for i in range(len(array_99)):\n",
    "    array_99[i] = random.random()\n",
    "    \n",
    "maior = 0.0 \n",
    "menor = 1.0  # Valor inicial deve ser 1.0, pois random.random() gera valores entre 0.0 e 1.0\n",
    "for i in range(len(array_99)):\n",
    "    if array_99[i] > maior:\n",
    "        maior = array_99[i]\n",
    "    \n",
    "    if array_99[i] < menor:  # Correção aqui: array_99[i] em vez de array_99\n",
    "        menor = array_99[i]\n",
    "        \n",
    "        \n",
    "print(maior) \n",
    "print(menor)"
   ]
  },
  {
   "cell_type": "markdown",
   "id": "cd9446be",
   "metadata": {},
   "source": [
    "⭐ 7.9 - Array bidimensional t\n",
    "\n",
    "Considere um array de inteiros dois por três t:\n",
    "\n",
    "a) Escreva uma instrução que declara e cria t.\n",
    "b) Quantas linhas tem t?\n",
    "c) Quantas colunas tem t?\n",
    "d) Quantos elementos tem t?\n",
    "e) Escreva expressões de acesso para todos os elementos na linha 1 de t.\n",
    "f) Escreva expressões de acesso para todos os elementos na coluna 2 de t.\n",
    "g) Escreva uma única instrução que configura o elemento de t na linha 0 e na coluna 1 como zero.\n",
    "h) Escreva instruções individuais para inicializar cada elemento de t para zero.\n",
    "i) Escreva uma instrução for aninhada que inicializa cada elemento de t como zero.\n",
    "j) Escreva uma instrução for aninhada que insere os valores para os elementos de t.\n",
    "k) Escreva uma série de instruções que determina e exibe o valor menor em t.\n",
    "l) Escreva uma instrução print que exibe os elementos da primeira linha de t.\n",
    "m) Escreva uma série de instruções que soma os elementos da terceira coluna de t.\n",
    "n) Liste os índices de linha à esquerda de cada linha e os índices de coluna como títulos na parte superior. Exiba o conteúdo de t no formato tabular."
   ]
  },
  {
   "cell_type": "markdown",
   "id": "39a42956",
   "metadata": {},
   "source": [
    "⭐ 7.9 - Array bidimensional t em Python\n",
    "\n",
    "Considere uma matriz (lista de listas) de inteiros dois por três t:\n",
    "\n",
    "a) Escreva uma instrução Python que declara e cria t.\n",
    "\n",
    "b) Quantas linhas tem t?\n",
    "\n",
    "c) Quantas colunas tem t?\n",
    "\n",
    "d) Quantos elementos tem t?\n",
    "\n",
    "e) Escreva expressões de acesso para todos os elementos na linha 1 de t.\n",
    "\n",
    "f) Escreva expressões de acesso para todos os elementos na coluna 2 de t.\n",
    "\n",
    "g) Escreva uma única instrução que configura o elemento de t na linha 0 e na coluna 1 como zero.\n",
    "\n",
    "h) Escreva instruções individuais para inicializar cada elemento de t para zero.\n",
    "\n",
    "i) Escreva um loop for aninhado que inicializa cada elemento de t como zero.\n",
    "\n",
    "j) Escreva um loop for aninhado que permite ao usuário inserir valores para os elementos de t.\n",
    "\n",
    "k) Escreva um código que determina e exibe o valor menor em t.\n",
    "\n",
    "l) Escreva uma instrução que exibe os elementos da primeira linha de t.\n",
    "\n",
    "m) Escreva um código que soma os elementos da terceira coluna de t.\n",
    "\n",
    "n) Escreva um código que exiba o conteúdo de t no formato tabular, com índices de linha à esquerda de cada linha e índices de coluna como títulos na parte superior."
   ]
  },
  {
   "cell_type": "code",
   "execution_count": 66,
   "id": "3b50a49c",
   "metadata": {},
   "outputs": [
    {
     "name": "stdout",
     "output_type": "stream",
     "text": [
      "[[1, 2, 3], [4, 5, 6]]\n",
      "linha: 0; coluna: 0 = 1\n",
      "linha: 0; coluna: 1 = 2\n",
      "linha: 0; coluna: 2 = 3\n",
      "linha: 1; coluna: 0 = 4\n",
      "linha: 1; coluna: 1 = 5\n",
      "linha: 1; coluna: 2 = 6\n",
      "4\n",
      "5\n",
      "6\n",
      "----------------------\n",
      "3\n",
      "6\n"
     ]
    }
   ],
   "source": [
    "t = [[1, 2, 3], [4, 5, 6]]\n",
    "\n",
    "linha = len(t)\n",
    "#print(linha)\n",
    "\n",
    "coluna = len(t[0])\n",
    "#print(coluna)\n",
    "\n",
    "contador = 0\n",
    "for i in range(len(t)):\n",
    "    for j in range(len(t[0])):\n",
    "        contador = contador + 1\n",
    "# print(contador) \n",
    "# print(\"Total de elementos:\", contador)  \n",
    "print(t)\n",
    "for i in range(len(t)):\n",
    "    for j in range(len(t[0])):\n",
    "        print(f'linha: {i}; coluna: {j} = {t[i][j]}') \n",
    "        \n",
    "        \n",
    "        \n",
    "# Para acessar todos os elementos da LINHA 1:\n",
    "i = 1            # Fixamos a linha (primeiro índice)\n",
    "for j in range(3):  # Variamos as colunas (segundo índice)\n",
    "    print(t[i][j])  # Imprime: t[1][0], t[1][1], t[1][2]\n",
    "    \n",
    "\n",
    "print('----------------------')\n",
    "    \n",
    "# Para acessar todos os elementos da COLUNA 2:\n",
    "j = 2            # Fixamos a coluna (segundo índice)\n",
    "for i in range(2):  # Variamos as linhas (primeiro índice)\n",
    "    print(t[i][j])  # Imprime: t[0][2], t[1][2]\n",
    "    \n",
    "# t[1][0], t[1][1], t[1][2]\n",
    "\n"
   ]
  },
  {
   "cell_type": "markdown",
   "id": "118ea9c3",
   "metadata": {},
   "source": [
    "\n",
    "g) Escreva uma única instrução que configura o elemento de t na linha 0 e na coluna 1 como zero."
   ]
  },
  {
   "cell_type": "code",
   "execution_count": 68,
   "id": "59671ec0",
   "metadata": {},
   "outputs": [],
   "source": [
    "t[0][1] = 0"
   ]
  },
  {
   "cell_type": "markdown",
   "id": "6d8b0652",
   "metadata": {},
   "source": [
    "⭐ 7.10 - Comissões de vendas\n",
    "\n",
    "Utilize um array unidimensional para resolver o seguinte problema:Uma empresa paga seu pessoal de vendas por comissão. O pessoal de vendas recebe R$ 200 por semana mais 9% de suas vendas brutas durante essa semana.Por exemplo, um vendedor que vende R$ 5.000 brutos em uma semana recebe R$ 200 mais 9% de R$ 5.000, um total de R$ 650.\n",
    "\n",
    "Escreva um aplicativo (utilizando um array de contadores) que determine quantos vendedores receberam salários em cada um dos seguintes intervalos:\n",
    "\n",
    "a) R$ 200–299\n",
    "\n",
    "b) R$ 300–399\n",
    "\n",
    "c) R$ 400–499\n",
    "\n",
    "d) R$ 500–599\n",
    "\n",
    "e) R$ 600–699\n",
    "\n",
    "f) R$ 700–799\n",
    "\n",
    "g) R$ 800–899\n",
    "\n",
    "h) R$ 900–999\n",
    "\n",
    "i) R$ 1.000 e acima\n",
    "\n",
    "Resuma os resultados em formato tabular."
   ]
  },
  {
   "cell_type": "markdown",
   "id": "e3ee1fa9",
   "metadata": {},
   "source": [
    "⭐ 7.11 - Operações em arrays unidimensionais\n",
    "\n",
    "a) Configure os 10 elementos do array de inteiros counts como zeros.\n",
    "b) Adicione um a cada um dos 15 elementos do array de inteiros bonus.\n",
    "c) Exiba os cinco valores do array de inteiros bestScores em formato de coluna."
   ]
  },
  {
   "cell_type": "markdown",
   "id": "eb8dbc51",
   "metadata": {},
   "source": [
    "⭐ 7.12 - Eliminação de duplicatas\n",
    "\n",
    "Utilize um array unidimensional para resolver o seguinte problema:Escreva um aplicativo que insere cinco números, cada um entre 10 e 100, inclusive. Enquanto cada número é lido, exiba-o somente se ele não tiver uma duplicata de um número já lido. Cuide de tratar o “pior caso”, em que todos os cinco números são diferentes. Utilize o menor array possível para resolver esse problema. Exiba o conjunto completo de valores únicos inseridos depois que o usuário inserir cada valor novo."
   ]
  },
  {
   "cell_type": "markdown",
   "id": "3ea354cb",
   "metadata": {},
   "source": [
    "⭐ 7.13 - Inicialização em array bidimensional\n",
    "\n",
    "Rotule os elementos do array bidimensional três por cinco sales para indicar a ordem em que eles são configurados com zero pelo seguinte segmento de programa:\n",
    "for (int row = 0; row < sales.length; row++) {\n",
    "    for (int col = 0; col < sales[row].length; col++) {\n",
    "        sales[row][col] = 0;\n",
    "    }\n",
    "}"
   ]
  },
  {
   "cell_type": "markdown",
   "id": "c1782a3e",
   "metadata": {},
   "source": [
    "⭐ 7.14 - Lista de argumentos de comprimento variável\n",
    "\n",
    "Escreva um aplicativo que calcula o produto de uma série de inteiros que são passados para o método product utilizando uma lista de argumentos de comprimento variável. Teste seu método com várias chamadas, cada uma com um número diferente de argumentos."
   ]
  },
  {
   "cell_type": "markdown",
   "id": "7997405a",
   "metadata": {},
   "source": [
    "⭐ 7.15 - Argumentos de linha de comando\n",
    "\n",
    "Reescreva a Figura 7.2 para que o tamanho do array seja especificado pelo primeiro argumento de linha de comando. Se nenhum argumento de linha de comando for fornecido, utilize 10 como o tamanho padrão do array."
   ]
  },
  {
   "cell_type": "markdown",
   "id": "9f6c66e7",
   "metadata": {},
   "source": [
    "⭐ 7.16 - Instrução for aprimorada\n",
    "\n",
    "Escreva um aplicativo que use uma instrução for aprimorada para somar os valores double passados pelos argumentos de linha de comando.Dica: utilize o método static parseDouble da classe Double para converter uma String em um valor double."
   ]
  },
  {
   "cell_type": "markdown",
   "id": "98670e53",
   "metadata": {},
   "source": [
    "⭐ 7.17 - Jogo de dados\n",
    "\n",
    "Escreva um aplicativo para simular o lançamento de dois dados.O aplicativo deve utilizar um objeto de classe Random, uma vez para lançar o primeiro dado e novamente para lançar o segundo dado. A soma dos dois valores do dado então será calculada.\n",
    "\n",
    "Cada dado pode mostrar um valor inteiro de 1 a 6, portanto a soma dos valores irá variar de 2 a 12, com 2 e 12 sendo as somas menos frequentes e 6 e 7 as mais frequentes.\n",
    "\n",
    "Seu aplicativo deve lançar o dado 36.000 vezes. Utilize um array unidimensional para contar o número de vezes que cada possível soma aparece. Exiba os resultados em formato tabular."
   ]
  }
 ],
 "metadata": {
  "kernelspec": {
   "display_name": "3.12.4",
   "language": "python",
   "name": "python3"
  },
  "language_info": {
   "codemirror_mode": {
    "name": "ipython",
    "version": 3
   },
   "file_extension": ".py",
   "mimetype": "text/x-python",
   "name": "python",
   "nbconvert_exporter": "python",
   "pygments_lexer": "ipython3",
   "version": "3.12.4"
  }
 },
 "nbformat": 4,
 "nbformat_minor": 5
}
