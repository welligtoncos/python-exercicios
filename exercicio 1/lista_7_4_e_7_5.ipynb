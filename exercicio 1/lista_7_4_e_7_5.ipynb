{
 "cells": [
  {
   "cell_type": "markdown",
   "id": "a273816e",
   "metadata": {},
   "source": [
    "**1. Crie uma lista chamada `numeros` com 5 posições, inicializada com o valor 0 em todas. Em seguida, imprima o conteúdo da lista.**\n"
   ]
  },
  {
   "cell_type": "markdown",
   "id": "e0bd3d64",
   "metadata": {},
   "source": [
    "**2. Crie uma lista chamada `pares` com os números pares de 2 até 20, usando um loop. Em seguida, imprima a lista.**\n"
   ]
  },
  {
   "cell_type": "markdown",
   "id": "e17598b3",
   "metadata": {},
   "source": [
    "**3. Dada a lista `notas = [6.5, 7.0, 8.2, 5.5, 9.0]`, calcule e imprima a média das notas.**\n"
   ]
  },
  {
   "cell_type": "markdown",
   "id": "1f38519c",
   "metadata": {},
   "source": [
    "**4. Crie uma lista `nomes` com 3 nomes. Depois, peça ao usuário para digitar um novo nome e substitua o primeiro nome da lista pelo nome digitado. Imprima a lista atualizada.**\n"
   ]
  },
  {
   "cell_type": "markdown",
   "id": "e2782976",
   "metadata": {},
   "source": [
    "**5. Dada a lista `idades = [12, 17, 19, 23, 30]`, use um loop para contar quantas pessoas têm 18 anos ou mais.**\n"
   ]
  },
  {
   "cell_type": "markdown",
   "id": "aae706b5",
   "metadata": {},
   "source": [
    "**6. Crie uma lista `valores` com 10 elementos numéricos definidos manualmente. Em seguida, encontre e imprima o maior e o menor valor da lista.**\n"
   ]
  },
  {
   "cell_type": "markdown",
   "id": "2d6fdb36",
   "metadata": {},
   "source": [
    "**7. Crie uma lista bidimensional `matriz` com os valores `[[1, 2], [3, 4]]`. Depois, altere o valor da posição [1][0] para 99 e imprima a matriz.**\n"
   ]
  },
  {
   "cell_type": "markdown",
   "id": "549e4792",
   "metadata": {},
   "source": [
    "**8. Dada a lista `temperaturas = [30, 32, 29, 28, 31, 35, 33]`, calcule e imprima a variação (diferença entre maior e menor temperatura).**\n"
   ]
  },
  {
   "cell_type": "markdown",
   "id": "89fbef9c",
   "metadata": {},
   "source": [
    "**9. Crie uma lista chamada `letras` com as letras da palavra \"PYTHON\" separadas. Depois, imprima a lista invertida.**\n"
   ]
  },
  {
   "cell_type": "markdown",
   "id": "08f3fd46",
   "metadata": {},
   "source": [
    "**10. Peça ao usuário para digitar 5 números e armazene-os em uma lista chamada `entradas`. Depois, imprima a lista ordenada em ordem crescente.**\n"
   ]
  }
 ],
 "metadata": {
  "language_info": {
   "name": "python"
  }
 },
 "nbformat": 4,
 "nbformat_minor": 5
}
