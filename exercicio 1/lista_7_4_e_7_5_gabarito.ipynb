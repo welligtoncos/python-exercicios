{
 "cells": [
  {
   "cell_type": "markdown",
   "id": "e048f2d1",
   "metadata": {},
   "source": [
    "🧪 Exercício Dica 1: Imprimir números de 1 a 10\n",
    "Enunciado:\n",
    "Use um laço for com range para imprimir os números de 1 a 10, um por linha.\n",
    "\n",
    "🧠 Explicação:\n",
    "range(1, 11) → começa no 1 e vai até 10 (porque o 11 é exclusivo).\n",
    "\n",
    "print(i) → imprime cada número da sequência."
   ]
  },
  {
   "cell_type": "code",
   "execution_count": null,
   "id": "58c093ca",
   "metadata": {},
   "outputs": [
    {
     "ename": "",
     "evalue": "",
     "output_type": "error",
     "traceback": [
      "\u001b[1;31mRunning cells with 'Python 3.12.4' requires the ipykernel package.\n",
      "\u001b[1;31m<a href='command:jupyter.createPythonEnvAndSelectController'>Create a Python Environment</a> with the required packages.\n",
      "\u001b[1;31mOr install 'ipykernel' using the command: 'c:/Users/welligton.costa.s/.pyenv/pyenv-win/versions/3.12.4/python.exe -m pip install ipykernel -U --force-reinstall'"
     ]
    }
   ],
   "source": [
    "for i in range(1, 11):\n",
    "    print(i)"
   ]
  },
  {
   "cell_type": "markdown",
   "id": "a273816e",
   "metadata": {},
   "source": [
    "**1. Crie uma lista chamada `numeros` com 5 posições, inicializada com o valor 0 em todas. Em seguida, imprima o conteúdo da lista.**\n"
   ]
  },
  {
   "cell_type": "code",
   "execution_count": null,
   "id": "49507b2b",
   "metadata": {},
   "outputs": [],
   "source": [
    "numeros = [0] * 5\n",
    "print(numeros)\n"
   ]
  },
  {
   "cell_type": "markdown",
   "id": "e0bd3d64",
   "metadata": {},
   "source": [
    "**2. Crie uma lista chamada `pares` com os números pares de 2 até 20, usando um loop. Em seguida, imprima a lista.**\n",
    "\n",
    "gera os números de 0 até 20, pulando de 2 em 2.\n"
   ]
  },
  {
   "cell_type": "code",
   "execution_count": null,
   "id": "0b69058a",
   "metadata": {},
   "outputs": [],
   "source": [
    "pares = []\n",
    "for i in range(2, 21, 2):\n",
    "    pares.append(i)\n",
    "print(pares)\n"
   ]
  },
  {
   "cell_type": "markdown",
   "id": "8213e8f3",
   "metadata": {},
   "source": [
    "💡 Por que usar range?\n",
    "Porque ele é leve, eficiente e já cuida da lógica de incremento. Sem range, você teria que fazer algo assim:"
   ]
  },
  {
   "cell_type": "code",
   "execution_count": null,
   "id": "caa66a32",
   "metadata": {},
   "outputs": [],
   "source": [
    "pares = []\n",
    "i = 2\n",
    "while i <= 20:\n",
    "    pares.append(i)\n",
    "    i += 2"
   ]
  },
  {
   "cell_type": "code",
   "execution_count": null,
   "id": "7625eff1",
   "metadata": {},
   "outputs": [],
   "source": [
    "pares = []\n",
    "for i in range(1, 21):\n",
    "    if i % 2 == 0:\n",
    "        pares.append(i)\n"
   ]
  },
  {
   "cell_type": "markdown",
   "id": "dcf101fd",
   "metadata": {},
   "source": [
    "Mas com range(2, 21, 2), você já vai direto ao ponto."
   ]
  },
  {
   "cell_type": "markdown",
   "id": "e17598b3",
   "metadata": {},
   "source": [
    "**3. Dada a lista `notas = [6.5, 7.0, 8.2, 5.5, 9.0]`, calcule e imprima a média das notas.**\n"
   ]
  },
  {
   "cell_type": "code",
   "execution_count": null,
   "id": "9dae6f39",
   "metadata": {},
   "outputs": [],
   "source": [
    "notas = [6.5, 7.0, 8.2, 5.5, 9.0]\n",
    "media = sum(notas) / len(notas)\n",
    "print(\"Média das notas:\", media)\n"
   ]
  },
  {
   "cell_type": "markdown",
   "id": "1f38519c",
   "metadata": {},
   "source": [
    "**4. Crie uma lista `nomes` com 3 nomes. Depois, peça ao usuário para digitar um novo nome e substitua o primeiro nome da lista pelo nome digitado. Imprima a lista atualizada.**\n"
   ]
  },
  {
   "cell_type": "code",
   "execution_count": null,
   "id": "a33b95f4",
   "metadata": {},
   "outputs": [],
   "source": [
    "nomes = [\"Ana\", \"Carlos\", \"Bianca\"]\n",
    "novo_nome = input(\"Digite um novo nome: \")\n",
    "nomes[0] = novo_nome\n",
    "print(\"Lista atualizada:\", nomes)\n"
   ]
  },
  {
   "cell_type": "markdown",
   "id": "e2782976",
   "metadata": {},
   "source": [
    "**5. Dada a lista `idades = [12, 17, 19, 23, 30]`, use um loop para contar quantas pessoas têm 18 anos ou mais.**\n"
   ]
  },
  {
   "cell_type": "code",
   "execution_count": null,
   "id": "4bb40e39",
   "metadata": {},
   "outputs": [],
   "source": [
    "idades = [12, 17, 19, 23, 30]\n",
    "maiores = 0\n",
    "for idade in idades:\n",
    "    if idade >= 18:\n",
    "        maiores += 1\n",
    "print(\"Quantidade de maiores de idade:\", maiores)\n"
   ]
  },
  {
   "cell_type": "markdown",
   "id": "aae706b5",
   "metadata": {},
   "source": [
    "**6. Crie uma lista `valores` com 10 elementos numéricos definidos manualmente. Em seguida, encontre e imprima o maior e o menor valor da lista.**\n"
   ]
  },
  {
   "cell_type": "code",
   "execution_count": null,
   "id": "78bdda94",
   "metadata": {},
   "outputs": [],
   "source": [
    "valores = [10, 25, 8, 14, 60, 3, 18, 22, 41, 5]\n",
    "maior = max(valores)\n",
    "menor = min(valores)\n",
    "print(\"Maior valor:\", maior)\n",
    "print(\"Menor valor:\", menor)\n"
   ]
  },
  {
   "cell_type": "markdown",
   "id": "2d6fdb36",
   "metadata": {},
   "source": [
    "**7. Crie uma lista bidimensional `matriz` com os valores `[[1, 2], [3, 4]]`. Depois, altere o valor da posição [1][0] para 99 e imprima a matriz.**\n"
   ]
  },
  {
   "cell_type": "code",
   "execution_count": null,
   "id": "cca4e6bd",
   "metadata": {},
   "outputs": [],
   "source": [
    "matriz = [[1, 2], [3, 4]]\n",
    "matriz[1][0] = 99\n",
    "print(\"Matriz atualizada:\", matriz)\n"
   ]
  },
  {
   "cell_type": "markdown",
   "id": "549e4792",
   "metadata": {},
   "source": [
    "**8. Dada a lista `temperaturas = [30, 32, 29, 28, 31, 35, 33]`, calcule e imprima a variação (diferença entre maior e menor temperatura).**\n"
   ]
  },
  {
   "cell_type": "code",
   "execution_count": null,
   "id": "3bbdb25b",
   "metadata": {},
   "outputs": [],
   "source": [
    "temperaturas = [30, 32, 29, 28, 31, 35, 33]\n",
    "variacao = max(temperaturas) - min(temperaturas)\n",
    "print(\"Variação de temperatura:\", variacao)\n"
   ]
  },
  {
   "cell_type": "markdown",
   "id": "89fbef9c",
   "metadata": {},
   "source": [
    "**9. Crie uma lista chamada `letras` com as letras da palavra \"PYTHON\" separadas. Depois, imprima a lista invertida.**\n"
   ]
  },
  {
   "cell_type": "code",
   "execution_count": null,
   "id": "fe636ab9",
   "metadata": {},
   "outputs": [],
   "source": [
    "letras = list(\"PYTHON\")\n",
    "letras_invertida = letras[::-1]\n",
    "print(\"Lista invertida:\", letras_invertida)\n"
   ]
  },
  {
   "cell_type": "markdown",
   "id": "08f3fd46",
   "metadata": {},
   "source": [
    "**10. Peça ao usuário para digitar 5 números e armazene-os em uma lista chamada `entradas`. Depois, imprima a lista ordenada em ordem crescente.**\n"
   ]
  },
  {
   "cell_type": "code",
   "execution_count": null,
   "id": "9c91a251",
   "metadata": {},
   "outputs": [],
   "source": [
    "entradas = []\n",
    "for i in range(5):\n",
    "    num = int(input(f\"Digite o número {i+1}: \"))\n",
    "    entradas.append(num)\n",
    "entradas.sort()\n",
    "print(\"Lista ordenada:\", entradas)\n"
   ]
  }
 ],
 "metadata": {
  "kernelspec": {
   "display_name": "Python 3",
   "language": "python",
   "name": "python3"
  },
  "language_info": {
   "codemirror_mode": {
    "name": "ipython",
    "version": 3
   },
   "file_extension": ".py",
   "mimetype": "text/x-python",
   "name": "python",
   "nbconvert_exporter": "python",
   "pygments_lexer": "ipython3",
   "version": "3.12.4"
  }
 },
 "nbformat": 4,
 "nbformat_minor": 5
}
