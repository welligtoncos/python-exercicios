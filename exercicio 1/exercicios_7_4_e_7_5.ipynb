{
 "cells": [
  {
   "cell_type": "markdown",
   "id": "19eb0040",
   "metadata": {},
   "source": [
    "**a)** Declare e crie o array como um array de inteiros que tenha 3 elementos.  \n",
    "**b)** Quantos elementos o array contém?"
   ]
  },
  {
   "cell_type": "code",
   "execution_count": 11,
   "id": "67f3ca87",
   "metadata": {},
   "outputs": [
    {
     "name": "stdout",
     "output_type": "stream",
     "text": [
      "b) Tamanho do array: 3\n"
     ]
    }
   ],
   "source": [
    "# a) Criar um array com 3 elementos (inicializados com 0)\n",
    "fractions = [0] * 3\n",
    "\n",
    "# b) Imprimir a quantidade de elementos\n",
    "print(\"b) Tamanho do array:\", len(fractions))\n"
   ]
  },
  {
   "cell_type": "markdown",
   "id": "e4aa9dd4",
   "metadata": {},
   "source": [
    "**c)** Utilize uma instrução `for` para inicializar cada elemento do array com 0.\n"
   ]
  },
  {
   "cell_type": "code",
   "execution_count": 12,
   "id": "40627121",
   "metadata": {},
   "outputs": [
    {
     "name": "stdout",
     "output_type": "stream",
     "text": [
      "c) Array após inicialização: [0, 0, 0]\n"
     ]
    }
   ],
   "source": [
    "for i in range(len(fractions)):\n",
    "    fractions[i] = 0\n",
    "print(\"c) Array após inicialização:\", fractions)"
   ]
  },
  {
   "cell_type": "markdown",
   "id": "467a013d",
   "metadata": {},
   "source": [
    "**d)** Atribua o valor `1` ao elemento 0 do array.\n"
   ]
  },
  {
   "cell_type": "code",
   "execution_count": 13,
   "id": "7df51e6f",
   "metadata": {},
   "outputs": [
    {
     "name": "stdout",
     "output_type": "stream",
     "text": [
      "d) Após atribuir 1 ao elemento 0: [1, 0, 0]\n"
     ]
    }
   ],
   "source": [
    "# d) Atribuir o valor 1 ao elemento 0 do array\n",
    "fractions[0] = 1\n",
    "\n",
    "print(\"d) Após atribuir 1 ao elemento 0:\", fractions)\n"
   ]
  },
  {
   "cell_type": "markdown",
   "id": "97e20ccf",
   "metadata": {},
   "source": [
    "**e)** Atribua o valor `333` ao elemento 2 do array.\n"
   ]
  },
  {
   "cell_type": "code",
   "execution_count": 6,
   "id": "1c66e138",
   "metadata": {},
   "outputs": [
    {
     "name": "stdout",
     "output_type": "stream",
     "text": [
      "e) Após atribuir 333 ao elemento 2: [1, 0, 333]\n"
     ]
    }
   ],
   "source": [
    "\n",
    "fractions[2] = 333\n",
    "print(\"e) Após atribuir 333 ao elemento 2:\", fractions)"
   ]
  },
  {
   "cell_type": "markdown",
   "id": "1ef4da93",
   "metadata": {},
   "source": [
    "**f)** Some todos os elementos do array utilizando um loop.\n"
   ]
  },
  {
   "cell_type": "code",
   "execution_count": 7,
   "id": "f4a28dd3",
   "metadata": {},
   "outputs": [
    {
     "name": "stdout",
     "output_type": "stream",
     "text": [
      "f) Soma dos elementos: 334\n"
     ]
    }
   ],
   "source": [
    "soma = sum(fractions)\n",
    "print(\"f) Soma dos elementos:\", soma)"
   ]
  },
  {
   "cell_type": "markdown",
   "id": "d8befe18",
   "metadata": {},
   "source": [
    "### 💻 Código Python (resposta)\n",
    "\n",
    "```python\n",
    "# a) Em Python, usamos convenção para constantes: nome em maiúsculas\n",
    "ARRAY_SIZE = 5\n",
    "\n",
    "# Apesar de ser uma \"constante\", o Python permite alteração (mas não devemos alterar)\n",
    "print(\"a) ARRAY_SIZE (constante):\", ARRAY_SIZE)"
   ]
  },
  {
   "cell_type": "code",
   "execution_count": 14,
   "id": "035f4b49",
   "metadata": {},
   "outputs": [
    {
     "name": "stdout",
     "output_type": "stream",
     "text": [
      "a) ARRAY_SIZE (constante): 5\n"
     ]
    }
   ],
   "source": [
    "ARRAY_SIZE = 5\n",
    "print(\"a) ARRAY_SIZE (constante):\", ARRAY_SIZE)"
   ]
  },
  {
   "cell_type": "markdown",
   "id": "9a488c22",
   "metadata": {},
   "source": [
    "**b)**  \n",
    "Observe o seguinte código em Python:\n",
    "\n",
    "```python\n",
    "b = [0] * 10\n",
    "\n",
    "for i in range(len(b) + 1):\n",
    "    b[i] = 1\n",
    "\n",
    "print(\"b) Array b após preenchimento:\", b)\n"
   ]
  },
  {
   "cell_type": "markdown",
   "id": "3be4248f",
   "metadata": {},
   "source": [
    "### ✅ Explicação para o instrutor (ou gabarito oculto)\n",
    "\n",
    "O erro está na linha:\n",
    "\n",
    "```python\n",
    "for i in range(len(b) + 1):"
   ]
  },
  {
   "cell_type": "code",
   "execution_count": 15,
   "id": "af2de705",
   "metadata": {},
   "outputs": [
    {
     "name": "stdout",
     "output_type": "stream",
     "text": [
      "b) Array b após preenchimento: [1, 1, 1, 1, 1, 1, 1, 1, 1, 1]\n"
     ]
    }
   ],
   "source": [
    "b = [0] * 10\n",
    "for i in range(len(b)):\n",
    "    b[i] = 1\n",
    "print(\"b) Array b após preenchimento:\", b)"
   ]
  },
  {
   "cell_type": "markdown",
   "id": "90121ca8",
   "metadata": {},
   "source": [
    "**c)**  \n",
    "Observe o seguinte código em Python:\n",
    "\n",
    "```python\n",
    "a = [[1, 2], [3, 4]]\n",
    "a[1,1] = 5\n",
    "print(\"c) Array bidimensional corrigido:\", a)\n"
   ]
  },
  {
   "cell_type": "code",
   "execution_count": 16,
   "id": "1d549097",
   "metadata": {},
   "outputs": [
    {
     "name": "stdout",
     "output_type": "stream",
     "text": [
      "c) Array bidimensional corrigido: [[1, 2], [3, 5]]\n"
     ]
    }
   ],
   "source": [
    "a = [[1, 2], [3, 4]]\n",
    "a[1][1] = 5\n",
    "print(\"c) Array bidimensional corrigido:\", a)"
   ]
  }
 ],
 "metadata": {
  "kernelspec": {
   "display_name": "venv-wsl",
   "language": "python",
   "name": "python3"
  },
  "language_info": {
   "codemirror_mode": {
    "name": "ipython",
    "version": 3
   },
   "file_extension": ".py",
   "mimetype": "text/x-python",
   "name": "python",
   "nbconvert_exporter": "python",
   "pygments_lexer": "ipython3",
   "version": "3.12.4"
  }
 },
 "nbformat": 4,
 "nbformat_minor": 5
}
