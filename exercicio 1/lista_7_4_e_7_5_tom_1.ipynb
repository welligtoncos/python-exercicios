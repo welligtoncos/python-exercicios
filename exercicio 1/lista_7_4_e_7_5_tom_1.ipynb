{
 "cells": [
  {
   "cell_type": "markdown",
   "id": "6f486e93",
   "metadata": {},
   "source": [
    "🧪 Exercício Dica 1: Imprimir números de 1 a 10\n",
    "Enunciado:\n",
    "Use um laço for com range para imprimir os números de 1 a 10, um por linha.\n",
    "\n",
    "🧠 Explicação:\n",
    "range(1, 11) → começa no 1 e vai até 10 (porque o 11 é exclusivo).\n",
    "\n",
    "print(i) → imprime cada número da sequência."
   ]
  },
  {
   "cell_type": "code",
   "execution_count": 37,
   "id": "ae57c203",
   "metadata": {},
   "outputs": [
    {
     "name": "stdout",
     "output_type": "stream",
     "text": [
      "1\n",
      "2\n",
      "3\n",
      "4\n",
      "5\n",
      "6\n",
      "7\n",
      "8\n",
      "9\n",
      "10\n"
     ]
    }
   ],
   "source": [
    "for i in range(1, 11):\n",
    "    print(i)"
   ]
  },
  {
   "cell_type": "markdown",
   "id": "9d643754",
   "metadata": {},
   "source": [
    "REMACK 14/04/2025"
   ]
  },
  {
   "cell_type": "code",
   "execution_count": 38,
   "id": "4d051b73",
   "metadata": {},
   "outputs": [
    {
     "name": "stdout",
     "output_type": "stream",
     "text": [
      "1\n",
      "2\n",
      "3\n",
      "4\n",
      "5\n",
      "6\n",
      "7\n",
      "8\n",
      "9\n",
      "10\n"
     ]
    }
   ],
   "source": [
    "for i in range(1, 11):\n",
    "    print(i)"
   ]
  },
  {
   "cell_type": "markdown",
   "id": "a273816e",
   "metadata": {},
   "source": [
    "**1. Crie uma lista chamada `numeros` com 5 posições, inicializada com o valor 0 em todas. Em seguida, imprima o conteúdo da lista.**\n"
   ]
  },
  {
   "cell_type": "code",
   "execution_count": 39,
   "id": "4cc557b8",
   "metadata": {},
   "outputs": [
    {
     "name": "stdout",
     "output_type": "stream",
     "text": [
      "b) Tamanho do array: 5\n"
     ]
    }
   ],
   "source": [
    "numeros = [0] * 5\n",
    "print(\"b) Tamanho do array:\", len(numeros))"
   ]
  },
  {
   "cell_type": "markdown",
   "id": "2fb6e0b6",
   "metadata": {},
   "source": [
    "REMACK 14/04/2025"
   ]
  },
  {
   "cell_type": "code",
   "execution_count": 40,
   "id": "39d7f10c",
   "metadata": {},
   "outputs": [
    {
     "name": "stdout",
     "output_type": "stream",
     "text": [
      "b) tamanho do array: 5\n"
     ]
    }
   ],
   "source": [
    "numeros = [0] * 5\n",
    "print(f'b) tamanho do array: {len(numeros)}')"
   ]
  },
  {
   "cell_type": "markdown",
   "id": "e0bd3d64",
   "metadata": {},
   "source": [
    "**2. Crie uma lista chamada `pares` com os números pares de 2 até 20, usando um loop. Em seguida, imprima a lista.**\n"
   ]
  },
  {
   "cell_type": "code",
   "execution_count": 29,
   "id": "7481389d",
   "metadata": {},
   "outputs": [
    {
     "name": "stdout",
     "output_type": "stream",
     "text": [
      "0\n",
      "2\n",
      "4\n",
      "6\n",
      "8\n",
      "10\n",
      "12\n",
      "14\n",
      "16\n",
      "18\n",
      "20\n"
     ]
    }
   ],
   "source": [
    "pares = []\n",
    "for i in range(0,21,2):\n",
    "    pares.append(i) \n",
    "\n",
    "\n",
    "for i in pares: \n",
    "    print(i)"
   ]
  },
  {
   "cell_type": "markdown",
   "id": "abfae016",
   "metadata": {},
   "source": [
    "REMACK 14/04/2025"
   ]
  },
  {
   "cell_type": "code",
   "execution_count": 42,
   "id": "fd812ac6",
   "metadata": {},
   "outputs": [
    {
     "name": "stdout",
     "output_type": "stream",
     "text": [
      "0\n",
      "2\n",
      "4\n",
      "6\n",
      "8\n"
     ]
    }
   ],
   "source": [
    "pares = []\n",
    "for i in range(0,10,2):\n",
    "    pares.append(i)\n",
    "\n",
    "for i in pares:\n",
    "    print(i)"
   ]
  },
  {
   "cell_type": "markdown",
   "id": "e17598b3",
   "metadata": {},
   "source": [
    "**3. Dada a lista `notas = [6.5, 7.0, 8.2, 5.5, 9.0]`, calcule e imprima a média das notas.**\n"
   ]
  },
  {
   "cell_type": "code",
   "execution_count": 30,
   "id": "fa2c3852",
   "metadata": {},
   "outputs": [
    {
     "name": "stdout",
     "output_type": "stream",
     "text": [
      "total de elementos: 5\n",
      "soma das notas: 36.2\n",
      "media: 7.24\n"
     ]
    }
   ],
   "source": [
    "notas = [6.5, 7.0, 8.2, 5.5, 9.0]\n",
    "quantidade_total_elementos = 0\n",
    "soma_das_notas = 0\n",
    "media = 0\n",
    "\n",
    "for valor in notas:\n",
    "    quantidade_total_elementos+=1\n",
    "    soma_das_notas+=valor\n",
    "    #print(valor)\n",
    "\n",
    "media = soma_das_notas/quantidade_total_elementos\n",
    " \n",
    "print(\"total de elementos:\", quantidade_total_elementos)\n",
    "print(\"soma das notas:\", soma_das_notas)\n",
    "print(\"media:\", media)\n"
   ]
  },
  {
   "cell_type": "markdown",
   "id": "a611ccc3",
   "metadata": {},
   "source": [
    "REMACK 14/04/2025"
   ]
  },
  {
   "cell_type": "code",
   "execution_count": 45,
   "id": "b830b12d",
   "metadata": {},
   "outputs": [
    {
     "name": "stdout",
     "output_type": "stream",
     "text": [
      "total de elementos: 5\n",
      "soma das notas: 36.2\n",
      "media: 7.24\n"
     ]
    }
   ],
   "source": [
    "notas = [6.5,7.0,8.2,5.5,9.0]\n",
    "quantidade_total_elementos = 0\n",
    "soma_das_notas = 0\n",
    "media = 0\n",
    "\n",
    "for valor in notas:\n",
    "        quantidade_total_elementos+=1\n",
    "        soma_das_notas+=valor\n",
    "\n",
    "media = soma_das_notas/quantidade_total_elementos\n",
    "\n",
    "print(f'total de elementos:', quantidade_total_elementos)\n",
    "print(f'soma das notas:', soma_das_notas)\n",
    "print(f'media:', media)\n"
   ]
  },
  {
   "cell_type": "markdown",
   "id": "1f38519c",
   "metadata": {},
   "source": [
    "**4. Crie uma lista `nomes` com 3 nomes. Depois, peça ao usuário para digitar um novo nome e substitua o primeiro nome da lista pelo nome digitado. Imprima a lista atualizada.**\n"
   ]
  },
  {
   "cell_type": "code",
   "execution_count": 31,
   "id": "2e42e45a",
   "metadata": {},
   "outputs": [
    {
     "name": "stdout",
     "output_type": "stream",
     "text": [
      "Lista Base\n",
      "wendel\n",
      "igor\n",
      "iago\n",
      "yasmin\n",
      "------------------\n",
      "Lista atualizada\n",
      "\n",
      "igor\n",
      "iago\n",
      "yasmin\n"
     ]
    }
   ],
   "source": [
    "nomes = [\"wendel\",\"igor\",\"iago\",\"yasmin\"]\n",
    "print(\"Lista Base\")\n",
    "for valor in nomes:\n",
    "    print(valor)\n",
    "\n",
    "print(\"------------------\")\n",
    "\n",
    "novo_nome = input(\"Digite um novo nome: \")\n",
    "nomes[0] = novo_nome\n",
    " \n",
    "print(\"Lista atualizada\")\n",
    "for valor in nomes:\n",
    "    print(valor)\n",
    " "
   ]
  },
  {
   "cell_type": "markdown",
   "id": "7fabdc81",
   "metadata": {},
   "source": [
    "REMACK 14/04/2025"
   ]
  },
  {
   "cell_type": "code",
   "execution_count": 46,
   "id": "c599ca83",
   "metadata": {},
   "outputs": [
    {
     "name": "stdout",
     "output_type": "stream",
     "text": [
      "Lista Base\n",
      "wendel\n",
      "igor\n",
      "iago\n",
      "yasmin\n",
      "-----------------\n",
      "Lista atualizada\n",
      "\n",
      "igor\n",
      "iago\n",
      "yasmin\n"
     ]
    }
   ],
   "source": [
    "nomes = [\"wendel\",\"igor\",\"iago\",\"yasmin\"]\n",
    "print(\"Lista Base\")\n",
    "for valor in nomes:\n",
    "    print(valor)\n",
    "\n",
    "print(\"-----------------\")\n",
    "\n",
    "novo_nome = input(\"Digite um novo nome: \")\n",
    "nomes[0] = novo_nome\n",
    "\n",
    "print(\"Lista atualizada\")\n",
    "for valor in nomes:\n",
    "    print(valor)"
   ]
  },
  {
   "cell_type": "markdown",
   "id": "e2782976",
   "metadata": {},
   "source": [
    "**5. Dada a lista `idades = [12, 17, 19, 23, 30]`, use um loop para contar quantas pessoas têm 18 anos ou mais.**\n"
   ]
  },
  {
   "cell_type": "code",
   "execution_count": 32,
   "id": "02ec6b4d",
   "metadata": {},
   "outputs": [
    {
     "name": "stdout",
     "output_type": "stream",
     "text": [
      "quantidade de pessoas com maior ou igual 18 anos: 3\n"
     ]
    }
   ],
   "source": [
    "idades = [12, 17, 19, 23, 30]\n",
    "quatidade_pessoas_maior_idade = 0\n",
    "\n",
    "for valor_idade  in idades:\n",
    "    if valor_idade >= 18:\n",
    "        quatidade_pessoas_maior_idade +=1\n",
    "    \n",
    "print(\"quantidade de pessoas com maior ou igual 18 anos:\", quatidade_pessoas_maior_idade)"
   ]
  },
  {
   "cell_type": "markdown",
   "id": "2accbb7d",
   "metadata": {},
   "source": [
    "REMACK 14/04/2025"
   ]
  },
  {
   "cell_type": "code",
   "execution_count": 47,
   "id": "7d884741",
   "metadata": {},
   "outputs": [
    {
     "name": "stdout",
     "output_type": "stream",
     "text": [
      "quantidade de pessoas com maior ou igual 18 anos: 3\n"
     ]
    }
   ],
   "source": [
    "idades = [12, 17, 19, 23, 30]\n",
    "quatidade_pessoas_maior_idade = 0\n",
    "\n",
    "for valor_idade in idades:\n",
    "    if valor_idade >= 18:\n",
    "        quatidade_pessoas_maior_idade +=1\n",
    "\n",
    "print(f'quantidade de pessoas com maior ou igual 18 anos:', quatidade_pessoas_maior_idade)"
   ]
  },
  {
   "cell_type": "markdown",
   "id": "1029aa06",
   "metadata": {},
   "source": [
    "REMACK 14/04/2025"
   ]
  },
  {
   "cell_type": "code",
   "execution_count": 48,
   "id": "d0dbe798",
   "metadata": {},
   "outputs": [
    {
     "name": "stdout",
     "output_type": "stream",
     "text": [
      "quantidade de pessoas com maior ou igual 18 anos: 3\n"
     ]
    }
   ],
   "source": [
    "idade = [12, 17, 19, 23, 30]\n",
    "quatidade_pessoas_maior_idade = 0\n",
    "\n",
    "for valor_idade in idades:\n",
    "    if valor_idade >= 18:\n",
    "        quatidade_pessoas_maior_idade +=1\n",
    "\n",
    "print(f'quantidade de pessoas com maior ou igual 18 anos:', quatidade_pessoas_maior_idade)"
   ]
  },
  {
   "cell_type": "markdown",
   "id": "aae706b5",
   "metadata": {},
   "source": [
    "**6. Crie uma lista `valores` com 10 elementos numéricos definidos manualmente. Em seguida, encontre e imprima o maior e o menor valor da lista.**\n"
   ]
  },
  {
   "cell_type": "code",
   "execution_count": 33,
   "id": "30e4f461",
   "metadata": {},
   "outputs": [
    {
     "name": "stdout",
     "output_type": "stream",
     "text": [
      "Maior é : 100\n"
     ]
    }
   ],
   "source": [
    "valores = [2,6,3,4,9,1,20,35,100,82,41,7,15]\n",
    "maior = 0\n",
    "\n",
    "for valor_de_valores in valores:\n",
    "    if(valor_de_valores > maior):\n",
    "        maior = valor_de_valores \n",
    "\n",
    "print(\"Maior é :\", maior)   "
   ]
  },
  {
   "cell_type": "markdown",
   "id": "6c6cdaf9",
   "metadata": {},
   "source": [
    "REMACK 14/04/2025"
   ]
  },
  {
   "cell_type": "code",
   "execution_count": 49,
   "id": "a7f5164e",
   "metadata": {},
   "outputs": [
    {
     "name": "stdout",
     "output_type": "stream",
     "text": [
      "Maior é : 100\n"
     ]
    }
   ],
   "source": [
    "valores = [2,6,3,4,9,1,20,35,100,82,41,7,15]\n",
    "maior = 0\n",
    "\n",
    "for valor_de_valores in valores:\n",
    "    if(valor_de_valores > maior):\n",
    "        maior = valor_de_valores\n",
    "\n",
    "print(f'Maior é :', maior)"
   ]
  },
  {
   "cell_type": "markdown",
   "id": "2d6fdb36",
   "metadata": {},
   "source": [
    "**7. Crie uma lista bidimensional `matriz` com os valores `[[1, 2], [3, 4]]`. Depois, altere o valor da posição [1][0] para 99 e imprima a matriz.**\n"
   ]
  },
  {
   "cell_type": "code",
   "execution_count": 34,
   "id": "58f519a2",
   "metadata": {},
   "outputs": [
    {
     "name": "stdout",
     "output_type": "stream",
     "text": [
      "[[1, 2], [99, 4]]\n"
     ]
    }
   ],
   "source": [
    "matriz = [[1,2],[3,4]]\n",
    "\n",
    "matriz[1][0]=99\n",
    "\n",
    "print(matriz)"
   ]
  },
  {
   "cell_type": "markdown",
   "id": "a1913297",
   "metadata": {},
   "source": [
    "REMACK 14/04/2025"
   ]
  },
  {
   "cell_type": "code",
   "execution_count": 51,
   "id": "7e3d129c",
   "metadata": {},
   "outputs": [
    {
     "name": "stdout",
     "output_type": "stream",
     "text": [
      "[[1, 2], [99, 4]]\n"
     ]
    }
   ],
   "source": [
    "matriz = [[1,2],[3,4]]\n",
    "\n",
    "matriz[1][0]=99\n",
    "\n",
    "print(matriz)"
   ]
  },
  {
   "cell_type": "markdown",
   "id": "549e4792",
   "metadata": {},
   "source": [
    "**8. Dada a lista `temperaturas = [30, 32, 29, 28, 31, 35, 33]`, calcule e imprima a variação (diferença entre maior e menor temperatura).**\n"
   ]
  },
  {
   "cell_type": "code",
   "execution_count": 35,
   "id": "2254329e",
   "metadata": {},
   "outputs": [
    {
     "name": "stdout",
     "output_type": "stream",
     "text": [
      "Temperatura máxima: 35\n",
      "Temperatura mínima: 28\n",
      "Variação:  7\n"
     ]
    }
   ],
   "source": [
    "temperaturas = [30,32,29,28,31,35,33]\n",
    "tempMax = max(temperaturas)\n",
    "temMin = min(temperaturas)\n",
    "variacao = max(temperaturas) - min(temperaturas)\n",
    "\n",
    "print(\"Temperatura máxima:\",tempMax )\n",
    "print(\"Temperatura mínima:\",temMin )\n",
    "print(\"Variação: \",variacao )\n"
   ]
  },
  {
   "cell_type": "markdown",
   "id": "38dbcc59",
   "metadata": {},
   "source": [
    "REMACK 14/04/2025"
   ]
  },
  {
   "cell_type": "code",
   "execution_count": 52,
   "id": "b40e3928",
   "metadata": {},
   "outputs": [
    {
     "name": "stdout",
     "output_type": "stream",
     "text": [
      "Temperatura máxima: 35\n",
      "Temperatura mínima: 28\n",
      "Variação: 7\n"
     ]
    }
   ],
   "source": [
    "temperaturas = [30,32,29,28,31,35,33]\n",
    "tempMax = max(temperaturas)\n",
    "temMin = min(temperaturas)\n",
    "variacao = max(temperaturas) - min(temperaturas)\n",
    "\n",
    "print(f'Temperatura máxima: {tempMax}')\n",
    "print(f'Temperatura mínima: {temMin}')\n",
    "print(f'Variação: {variacao}')"
   ]
  },
  {
   "cell_type": "markdown",
   "id": "89fbef9c",
   "metadata": {},
   "source": [
    "**9. Crie uma lista chamada `letras` com as letras da palavra \"PYTHON\" separadas. Depois, imprima a lista invertida.**\n"
   ]
  },
  {
   "cell_type": "markdown",
   "id": "b85187e2",
   "metadata": {},
   "source": [
    "3. letras_invertida = letras[::-1]\n",
    "Esse é um fatiamento (slice) de lista com [::-1], que significa:\n",
    "\n",
    ": -> pega todos os elementos\n",
    "\n",
    "-1 -> de trás pra frente (passo negativo)\n",
    "\n",
    "lista[início:fim:passo]\n",
    "letras = ['P', 'Y', 'T', 'H', 'O', 'N']\n",
    "\n",
    "🧩 PARÂMETROS DO SLICE\n",
    "1. início:\n",
    "Índice onde o fatiamento começa (inclusive).\n",
    "\n",
    "Se você não colocar, ele começa do início (0).\n",
    "\n",
    "2. fim:\n",
    "Índice onde o fatiamento termina (exclusive).\n",
    "\n",
    "Se você não colocar, ele vai até o final.\n",
    "\n",
    "3. passo:\n",
    "De quantos em quantos elementos ele pula.\n",
    "\n",
    "Pode ser positivo (ordem normal) ou negativo (ordem invertida).\n",
    "\n",
    "🔢 Exemplos práticos:\n",
    "✅ letras[1:4]\n",
    "Pega do índice 1 até o 3:\n",
    "['Y', 'T', 'H']\n",
    "\n",
    "\n",
    "✅ letras[:3]\n",
    "Do início até o índice 2:\n",
    "['P', 'Y', 'T']\n",
    "\n",
    "✅ letras[3:]\n",
    "Do índice 3 até o final:\n",
    "['H', 'O', 'N']\n",
    "\n",
    "\n",
    "✅ letras[::-1]\n",
    "Lista invertida (como já vimos):\n",
    "['N', 'O', 'H', 'T', 'Y', 'P']\n",
    "\n",
    "✅ letras[-3:]\n",
    "Últimos 3 elementos:\n",
    "['H', 'O', 'N']\n",
    "\n",
    "✅ letras[:-2]\n",
    "Do início até dois antes do final:\n",
    "['P', 'Y', 'T', 'H']\n"
   ]
  },
  {
   "cell_type": "code",
   "execution_count": 36,
   "id": "83a945eb",
   "metadata": {},
   "outputs": [
    {
     "name": "stdout",
     "output_type": "stream",
     "text": [
      "Lista invertida: ['N', 'O', 'H', 'T', 'Y', 'P']\n"
     ]
    }
   ],
   "source": [
    "letra_escolhida = \"PYTHON\"\n",
    "letras = list(letra_escolhida)\n",
    "letras_invertida = letras[::-1]\n",
    "print(\"Lista invertida:\", letras_invertida)"
   ]
  },
  {
   "cell_type": "markdown",
   "id": "a8512bc6",
   "metadata": {},
   "source": [
    "REMACK 14/04/2025"
   ]
  },
  {
   "cell_type": "code",
   "execution_count": 53,
   "id": "75f3c1b3",
   "metadata": {},
   "outputs": [
    {
     "name": "stdout",
     "output_type": "stream",
     "text": [
      "Lista invertida: ['N', 'O', 'H', 'T', 'Y', 'P']\n"
     ]
    }
   ],
   "source": [
    "letra_escolhida = \"PYTHON\"\n",
    "letras = list(letra_escolhida)\n",
    "letras_invertida = letras[::-1]\n",
    "print(\"Lista invertida:\", letras_invertida)\n"
   ]
  },
  {
   "cell_type": "markdown",
   "id": "08f3fd46",
   "metadata": {},
   "source": [
    "**10. Peça ao usuário para digitar 5 números e armazene-os em uma lista chamada `entradas`. Depois, imprima a lista ordenada em ordem crescente.**\n"
   ]
  },
  {
   "cell_type": "code",
   "execution_count": null,
   "id": "19dece2c",
   "metadata": {},
   "outputs": [
    {
     "name": "stdout",
     "output_type": "stream",
     "text": [
      "------printa mochila\n",
      "62\n",
      "2\n",
      "396\n",
      "1\n",
      "23\n"
     ]
    }
   ],
   "source": [
    "from numpy import sort\n",
    "\n",
    "\n",
    "valor_ditado = 0\n",
    "mochila = []\n",
    "for i in range(0,5):\n",
    "   valor_ditado = input(\"Digite um valor\") \n",
    "   mochila.append(valor_ditado)\n",
    "\n",
    "print(\"------printa mochila\")\n",
    " \n",
    "for valor_mochila in mochila:\n",
    "    print(valor_mochila)\n",
    "\n",
    " "
   ]
  }
 ],
 "metadata": {
  "kernelspec": {
   "display_name": "Python 3",
   "language": "python",
   "name": "python3"
  },
  "language_info": {
   "codemirror_mode": {
    "name": "ipython",
    "version": 3
   },
   "file_extension": ".py",
   "mimetype": "text/x-python",
   "name": "python",
   "nbconvert_exporter": "python",
   "pygments_lexer": "ipython3",
   "version": "3.12.4"
  }
 },
 "nbformat": 4,
 "nbformat_minor": 5
}
